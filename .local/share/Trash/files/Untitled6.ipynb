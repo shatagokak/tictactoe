{
 "cells": [
  {
   "cell_type": "code",
   "execution_count": null,
   "id": "08246fbf-1a91-41cb-b025-c3fcd827f308",
   "metadata": {},
   "outputs": [],
   "source": []
  }
 ],
 "metadata": {
  "kernelspec": {
   "display_name": "",
   "name": ""
  },
  "language_info": {
   "name": ""
  }
 },
 "nbformat": 4,
 "nbformat_minor": 5
}
