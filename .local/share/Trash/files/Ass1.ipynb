{
 "cells": [
  {
   "cell_type": "code",
   "execution_count": 4,
   "id": "e1fb4dc2-7039-4cfb-ab9b-91685e479b3c",
   "metadata": {},
   "outputs": [
    {
     "name": "stdout",
     "output_type": "stream",
     "text": [
      "      Name  Percentage  Age\n",
      "0   Misbah          79   19\n",
      "1   Sadika          95   20\n",
      "2   Sadiya          70   20\n",
      "3   Adeeba          80   21\n",
      "4     Sara          94   21\n",
      "5    Falak          80   20\n",
      "6  Tehzeeb          87   21\n",
      "7     Iqra          78   20\n",
      "8     Hema          94   21\n",
      "9   Ayesha          73   20\n"
     ]
    }
   ],
   "source": [
    "import pandas as pd\n",
    "df=pd.DataFrame(columns=['Name','Percentage','Age'])\n",
    "df.loc[0]=['Misbah',79,19]\n",
    "df.loc[1]=['Sadika',95,20]\n",
    "df.loc[2]=['Sadiya',70,20]\n",
    "df.loc[3]=['Adeeba',80,21]\n",
    "df.loc[4]=['Sara',94,21]\n",
    "df.loc[5]=['Falak',80,20]\n",
    "df.loc[6]=['Tehzeeb',87,21]\n",
    "df.loc[7]=['Iqra',78,20]\n",
    "df.loc[8]=['Hema',94,21]\n",
    "df.loc[9]=['Ayesha',73,20]\n",
    "print(df)\n",
    "\n"
   ]
  },
  {
   "cell_type": "code",
   "execution_count": 7,
   "id": "a1e8a9a1-3ab8-47b2-b533-ed9fdc44c1d0",
   "metadata": {},
   "outputs": [
    {
     "name": "stdout",
     "output_type": "stream",
     "text": [
      "      Name  Percentage  Age\n",
      "0   Misbah          79   19\n",
      "1   Sadika          95   20\n",
      "2   Sadiya          70   20\n",
      "3   Adeeba          80   21\n",
      "4     Sara          94   21\n",
      "5    Falak          80   20\n",
      "6  Tehzeeb          87   21\n",
      "7     Iqra          78   20\n",
      "8     Hema          94   21\n",
      "9   Ayesha          73   20\n",
      "the shape: (10, 3)\n",
      "no.of rows,column: 30\n",
      "datatyoes: Index(['Name', 'Percentage', 'Age'], dtype='object')\n",
      "description: <bound method NDFrame.describe of       Name  Percentage  Age\n",
      "0   Misbah          79   19\n",
      "1   Sadika          95   20\n",
      "2   Sadiya          70   20\n",
      "3   Adeeba          80   21\n",
      "4     Sara          94   21\n",
      "5    Falak          80   20\n",
      "6  Tehzeeb          87   21\n",
      "7     Iqra          78   20\n",
      "8     Hema          94   21\n",
      "9   Ayesha          73   20>\n"
     ]
    }
   ],
   "source": [
    "import pandas as pd\n",
    "df=pd.DataFrame(columns=['Name','Percentage','Age'])\n",
    "df.loc[0]=['Misbah',79,19]\n",
    "df.loc[1]=['Sadika',95,20]\n",
    "df.loc[2]=['Sadiya',70,20]\n",
    "df.loc[3]=['Adeeba',80,21]\n",
    "df.loc[4]=['Sara',94,21]\n",
    "df.loc[5]=['Falak',80,20]\n",
    "df.loc[6]=['Tehzeeb',87,21]\n",
    "df.loc[7]=['Iqra',78,20]\n",
    "df.loc[8]=['Hema',94,21]\n",
    "df.loc[9]=['Ayesha',73,20]\n",
    "print(df)\n",
    "print(\"the shape:\",df.shape)\n",
    "print(\"no.of rows,column:\",df.size)\n",
    "print(\"datatyoes:\",df.columns)\n",
    "print(\"description:\",df.describe)\n"
   ]
  },
  {
   "cell_type": "code",
   "execution_count": 8,
   "id": "3f56c7b3-3470-4a4d-8976-6a708019d918",
   "metadata": {},
   "outputs": [
    {
     "name": "stdout",
     "output_type": "stream",
     "text": [
      "      Name  Percentage  Age\n",
      "0   Misbah          79   19\n",
      "1   Sadika          95   20\n",
      "2   Sadiya          70   20\n",
      "3   Adeeba          80   21\n",
      "4     Sara          94   21\n",
      "5    Falak          80   20\n",
      "6  Tehzeeb          87   21\n",
      "7     Iqra          78   20\n",
      "8     Hema          94   21\n",
      "9   Ayesha          73   20\n",
      "description: <bound method NDFrame.describe of       Name  Percentage  Age\n",
      "0   Misbah          79   19\n",
      "1   Sadika          95   20\n",
      "2   Sadiya          70   20\n",
      "3   Adeeba          80   21\n",
      "4     Sara          94   21\n",
      "5    Falak          80   20\n",
      "6  Tehzeeb          87   21\n",
      "7     Iqra          78   20\n",
      "8     Hema          94   21\n",
      "9   Ayesha          73   20>\n"
     ]
    }
   ],
   "source": [
    "import pandas as pd\n",
    "df=pd.DataFrame(columns=['Name','Percentage','Age'])\n",
    "df.loc[0]=['Misbah',79,19]\n",
    "df.loc[1]=['Sadika',95,20]\n",
    "df.loc[2]=['Sadiya',70,20]\n",
    "df.loc[3]=['Adeeba',80,21]\n",
    "df.loc[4]=['Sara',94,21]\n",
    "df.loc[5]=['Falak',80,20]\n",
    "df.loc[6]=['Tehzeeb',87,21]\n",
    "df.loc[7]=['Iqra',78,20]\n",
    "df.loc[8]=['Hema',94,21]\n",
    "df.loc[9]=['Ayesha',73,20]\n",
    "print(df)\n",
    "print(\"description:\",df.describe)\n"
   ]
  },
  {
   "cell_type": "code",
   "execution_count": 9,
   "id": "c27bfb7e-6555-4b03-856d-8030ff42d4c2",
   "metadata": {},
   "outputs": [
    {
     "name": "stdout",
     "output_type": "stream",
     "text": [
      "      Name  Percentage  Age remark\n",
      "0   Misbah          79   19   None\n",
      "1   Sadika          95   20   None\n",
      "2   Sadiya          70   20   None\n",
      "3   Adeeba          80   21   None\n",
      "4     Sara          94   21   None\n",
      "5    Falak          80   20   None\n",
      "6  Tehzeeb          87   21   None\n",
      "7     Iqra          78   20   None\n",
      "8     Hema          94   21   None\n",
      "9   Ayesha          73   20   None\n"
     ]
    }
   ],
   "source": [
    "import pandas as pd\n",
    "df=pd.DataFrame(columns=['Name','Percentage','Age'])\n",
    "df.loc[0]=['Misbah',79,19]\n",
    "df.loc[1]=['Sadika',95,20]\n",
    "df.loc[2]=['Sadiya',70,20]\n",
    "df.loc[3]=['Adeeba',80,21]\n",
    "df.loc[4]=['Sara',94,21]\n",
    "df.loc[5]=['Falak',80,20]\n",
    "df.loc[6]=['Tehzeeb',87,21]\n",
    "df.loc[7]=['Iqra',78,20]\n",
    "df.loc[8]=['Hema',94,21]\n",
    "df.loc[9]=['Ayesha',73,20]\n",
    "df['remark']=None\n",
    "print(df)\n"
   ]
  },
  {
   "cell_type": "code",
   "execution_count": 15,
   "id": "f1cf8f4a-b0bc-45fe-9a50-c95ff69f9368",
   "metadata": {},
   "outputs": [
    {
     "name": "stdout",
     "output_type": "stream",
     "text": [
      "     Name  Percentage   Age\n",
      "0  Misbah        79.0  19.0\n",
      "1  Sadika        95.0  20.0\n",
      "2  Sadiya        70.0  20.0\n",
      "3  Adeeba        80.0  21.0\n",
      "4     NaN        80.0  22.0\n",
      "no.of observation: 5\n",
      "missing value 15\n"
     ]
    },
    {
     "ename": "AttributeError",
     "evalue": "'DataFrame' object has no attribute 'duplicate'",
     "output_type": "error",
     "traceback": [
      "\u001b[0;31m---------------------------------------------------------------------------\u001b[0m",
      "\u001b[0;31mAttributeError\u001b[0m                            Traceback (most recent call last)",
      "\u001b[0;32m/tmp/ipykernel_9268/3687859657.py\u001b[0m in \u001b[0;36m?\u001b[0;34m()\u001b[0m\n\u001b[1;32m      9\u001b[0m \u001b[0mprint\u001b[0m\u001b[0;34m(\u001b[0m\u001b[0mdf\u001b[0m\u001b[0;34m)\u001b[0m\u001b[0;34m\u001b[0m\u001b[0;34m\u001b[0m\u001b[0m\n\u001b[1;32m     10\u001b[0m \u001b[0mprint\u001b[0m\u001b[0;34m(\u001b[0m\u001b[0;34m\"no.of observation:\"\u001b[0m\u001b[0;34m,\u001b[0m\u001b[0mdf\u001b[0m\u001b[0;34m[\u001b[0m\u001b[0;34m\"Name\"\u001b[0m\u001b[0;34m]\u001b[0m\u001b[0;34m.\u001b[0m\u001b[0msize\u001b[0m\u001b[0;34m)\u001b[0m\u001b[0;34m\u001b[0m\u001b[0;34m\u001b[0m\u001b[0m\n\u001b[1;32m     11\u001b[0m \u001b[0mmissing\u001b[0m\u001b[0;34m=\u001b[0m\u001b[0mdf\u001b[0m\u001b[0;34m.\u001b[0m\u001b[0misnull\u001b[0m\u001b[0;34m(\u001b[0m\u001b[0;34m)\u001b[0m\u001b[0;34m\u001b[0m\u001b[0;34m\u001b[0m\u001b[0m\n\u001b[1;32m     12\u001b[0m \u001b[0mprint\u001b[0m\u001b[0;34m(\u001b[0m\u001b[0;34m\"missing value\"\u001b[0m\u001b[0;34m,\u001b[0m\u001b[0mmissing\u001b[0m\u001b[0;34m.\u001b[0m\u001b[0msize\u001b[0m\u001b[0;34m)\u001b[0m\u001b[0;34m\u001b[0m\u001b[0;34m\u001b[0m\u001b[0m\n\u001b[0;32m---> 13\u001b[0;31m \u001b[0mdup\u001b[0m\u001b[0;34m=\u001b[0m\u001b[0mdf\u001b[0m\u001b[0;34m.\u001b[0m\u001b[0mduplicate\u001b[0m\u001b[0;34m(\u001b[0m\u001b[0;34m)\u001b[0m\u001b[0;34m\u001b[0m\u001b[0;34m\u001b[0m\u001b[0m\n\u001b[0m\u001b[1;32m     14\u001b[0m \u001b[0mprint\u001b[0m\u001b[0;34m(\u001b[0m\u001b[0mdup\u001b[0m\u001b[0;34m)\u001b[0m\u001b[0;34m\u001b[0m\u001b[0;34m\u001b[0m\u001b[0m\n",
      "\u001b[0;32m~/.local/lib/python3.10/site-packages/pandas/core/generic.py\u001b[0m in \u001b[0;36m?\u001b[0;34m(self, name)\u001b[0m\n\u001b[1;32m   6295\u001b[0m             \u001b[0;32mand\u001b[0m \u001b[0mname\u001b[0m \u001b[0;32mnot\u001b[0m \u001b[0;32min\u001b[0m \u001b[0mself\u001b[0m\u001b[0;34m.\u001b[0m\u001b[0m_accessors\u001b[0m\u001b[0;34m\u001b[0m\u001b[0;34m\u001b[0m\u001b[0m\n\u001b[1;32m   6296\u001b[0m             \u001b[0;32mand\u001b[0m \u001b[0mself\u001b[0m\u001b[0;34m.\u001b[0m\u001b[0m_info_axis\u001b[0m\u001b[0;34m.\u001b[0m\u001b[0m_can_hold_identifiers_and_holds_name\u001b[0m\u001b[0;34m(\u001b[0m\u001b[0mname\u001b[0m\u001b[0;34m)\u001b[0m\u001b[0;34m\u001b[0m\u001b[0;34m\u001b[0m\u001b[0m\n\u001b[1;32m   6297\u001b[0m         ):\n\u001b[1;32m   6298\u001b[0m             \u001b[0;32mreturn\u001b[0m \u001b[0mself\u001b[0m\u001b[0;34m[\u001b[0m\u001b[0mname\u001b[0m\u001b[0;34m]\u001b[0m\u001b[0;34m\u001b[0m\u001b[0;34m\u001b[0m\u001b[0m\n\u001b[0;32m-> 6299\u001b[0;31m         \u001b[0;32mreturn\u001b[0m \u001b[0mobject\u001b[0m\u001b[0;34m.\u001b[0m\u001b[0m__getattribute__\u001b[0m\u001b[0;34m(\u001b[0m\u001b[0mself\u001b[0m\u001b[0;34m,\u001b[0m \u001b[0mname\u001b[0m\u001b[0;34m)\u001b[0m\u001b[0;34m\u001b[0m\u001b[0;34m\u001b[0m\u001b[0m\n\u001b[0m",
      "\u001b[0;31mAttributeError\u001b[0m: 'DataFrame' object has no attribute 'duplicate'"
     ]
    }
   ],
   "source": [
    "import pandas as pd\n",
    "df=pd.DataFrame(columns=['Name','Percentage','Age'])\n",
    "df.loc[0]=['Misbah',79,19]\n",
    "df.loc[1]=['Sadika',95,20]\n",
    "df.loc[0]=['Misbah',79,19]\n",
    "df.loc[2]=['Sadiya',70,20]\n",
    "df.loc[3]=['Adeeba',80,21]\n",
    "df.loc[4]=[None,80,22]\n",
    "df.['Remark']=None\n",
    "print(df)\n",
    "print(\"number of observation is:\",df[\"Name\"].size)\n",
    "missing=df.isnull()\n",
    "print(\"\\n Display missing)"
   ]
  },
  {
   "cell_type": "code",
   "execution_count": null,
   "id": "d0a75ecc-af7c-4ed8-b7f2-f8c86941af25",
   "metadata": {},
   "outputs": [],
   "source": []
  }
 ],
 "metadata": {
  "kernelspec": {
   "display_name": "Python 3 (ipykernel)",
   "language": "python",
   "name": "python3"
  },
  "language_info": {
   "codemirror_mode": {
    "name": "ipython",
    "version": 3
   },
   "file_extension": ".py",
   "mimetype": "text/x-python",
   "name": "python",
   "nbconvert_exporter": "python",
   "pygments_lexer": "ipython3",
   "version": "3.10.12"
  }
 },
 "nbformat": 4,
 "nbformat_minor": 5
}
