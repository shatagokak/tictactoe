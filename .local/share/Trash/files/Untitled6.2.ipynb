{
 "cells": [
  {
   "cell_type": "code",
   "execution_count": 2,
   "id": "2213f108-63f6-4162-a64f-964f4c5b85b8",
   "metadata": {},
   "outputs": [
    {
     "name": "stdout",
     "output_type": "stream",
     "text": [
      "     Name  Marks Status\n",
      "0     Tom      9   Fail\n",
      "1    Jack     19   Pass\n",
      "2   Lucky     20   Pass\n",
      "3     Bob     17   Pass\n",
      "4   Jerry     11   Pass\n",
      "5   Alice     18   Pass\n",
      "6  Thomas      5   Fail\n",
      "7  Barbie      8   Fail\n",
      "First 3 rows:\n",
      "\n",
      "    Name  Marks Status\n",
      "0    Tom      9   Fail\n",
      "1   Jack     19   Pass\n",
      "2  Lucky     20   Pass\n",
      "Last 5 rows:\n",
      "\n",
      "     Name  Marks Status\n",
      "3     Bob     17   Pass\n",
      "4   Jerry     11   Pass\n",
      "5   Alice     18   Pass\n",
      "6  Thomas      5   Fail\n",
      "7  Barbie      8   Fail\n",
      "First 3 records using iloc:\n",
      "\n",
      "    Name  Marks Status\n",
      "0    Tom      9   Fail\n",
      "1   Jack     19   Pass\n",
      "2  Lucky     20   Pass\n"
     ]
    }
   ],
   "source": [
    "import pandas as pd\n",
    "df=pd.DataFrame(columns=['Name','Marks','Status'])\n",
    "df.loc[0]=['Tom',9,'Fail']\n",
    "df.loc[1]=['Jack',19,'Pass']\n",
    "df.loc[2]=['Lucky',20,'Pass']\n",
    "df.loc[3]=['Bob',17,'Pass']\n",
    "df.loc[4]=['Jerry',11,'Pass']\n",
    "df.loc[5]=['Alice',18,'Pass']\n",
    "df.loc[6]=['Thomas',5,'Fail']\n",
    "df.loc[7]=['Barbie',8,'Fail']\n",
    "print(df)\n",
    "print(\"First 3 rows:\\n\")\n",
    "print(df.head(3))\n",
    "print(\"Last 5 rows:\\n\")\n",
    "print(df.tail(5))\n",
    "print(\"First 3 records using iloc:\\n\")\n",
    "print(df.iloc[0:3])"
   ]
  },
  {
   "cell_type": "code",
   "execution_count": 5,
   "id": "f9fc5424-b353-41af-893a-06bf03fb9116",
   "metadata": {},
   "outputs": [
    {
     "name": "stdout",
     "output_type": "stream",
     "text": [
      "       Unnamed: 0  carat        cut color clarity  depth  table  price     x  \\\n",
      "0               1   0.23      Ideal     E     SI2   61.5   55.0    326  3.95   \n",
      "1               2   0.21    Premium     E     SI1   59.8   61.0    326  3.89   \n",
      "2               3   0.23       Good     E     VS1   56.9   65.0    327  4.05   \n",
      "3               4   0.29    Premium     I     VS2   62.4   58.0    334  4.20   \n",
      "4               5   0.31       Good     J     SI2   63.3   58.0    335  4.34   \n",
      "...           ...    ...        ...   ...     ...    ...    ...    ...   ...   \n",
      "53935       53936   0.72      Ideal     D     SI1   60.8   57.0   2757  5.75   \n",
      "53936       53937   0.72       Good     D     SI1   63.1   55.0   2757  5.69   \n",
      "53937       53938   0.70  Very Good     D     SI1   62.8   60.0   2757  5.66   \n",
      "53938       53939   0.86    Premium     H     SI2   61.0   58.0   2757  6.15   \n",
      "53939       53940   0.75      Ideal     D     SI2   62.2   55.0   2757  5.83   \n",
      "\n",
      "          y     z  \n",
      "0      3.98  2.43  \n",
      "1      3.84  2.31  \n",
      "2      4.07  2.31  \n",
      "3      4.23  2.63  \n",
      "4      4.35  2.75  \n",
      "...     ...   ...  \n",
      "53935  5.76  3.50  \n",
      "53936  5.75  3.61  \n",
      "53937  5.68  3.56  \n",
      "53938  6.12  3.74  \n",
      "53939  5.87  3.64  \n",
      "\n",
      "[53940 rows x 11 columns]\n",
      "   Unnamed: 0  carat      cut color clarity  depth  table  price     x     y  \\\n",
      "0           1   0.23    Ideal     E     SI2   61.5   55.0    326  3.95  3.98   \n",
      "1           2   0.21  Premium     E     SI1   59.8   61.0    326  3.89  3.84   \n",
      "2           3   0.23     Good     E     VS1   56.9   65.0    327  4.05  4.07   \n",
      "3           4   0.29  Premium     I     VS2   62.4   58.0    334  4.20  4.23   \n",
      "4           5   0.31     Good     J     SI2   63.3   58.0    335  4.34  4.35   \n",
      "\n",
      "      z  \n",
      "0  2.43  \n",
      "1  2.31  \n",
      "2  2.31  \n",
      "3  2.63  \n",
      "4  2.75  \n",
      "       Unnamed: 0  carat        cut color clarity  depth  table  price     x  \\\n",
      "53935       53936   0.72      Ideal     D     SI1   60.8   57.0   2757  5.75   \n",
      "53936       53937   0.72       Good     D     SI1   63.1   55.0   2757  5.69   \n",
      "53937       53938   0.70  Very Good     D     SI1   62.8   60.0   2757  5.66   \n",
      "53938       53939   0.86    Premium     H     SI2   61.0   58.0   2757  6.15   \n",
      "53939       53940   0.75      Ideal     D     SI2   62.2   55.0   2757  5.83   \n",
      "\n",
      "          y     z  \n",
      "53935  5.76  3.50  \n",
      "53936  5.75  3.61  \n",
      "53937  5.68  3.56  \n",
      "53938  6.12  3.74  \n",
      "53939  5.87  3.64  \n",
      "         Unnamed: 0         carat         depth         table         price  \\\n",
      "count  53940.000000  53940.000000  53940.000000  53940.000000  53940.000000   \n",
      "mean   26970.500000      0.797940     61.749405     57.457184   3932.799722   \n",
      "std    15571.281097      0.474011      1.432621      2.234491   3989.439738   \n",
      "min        1.000000      0.200000     43.000000     43.000000    326.000000   \n",
      "25%    13485.750000      0.400000     61.000000     56.000000    950.000000   \n",
      "50%    26970.500000      0.700000     61.800000     57.000000   2401.000000   \n",
      "75%    40455.250000      1.040000     62.500000     59.000000   5324.250000   \n",
      "max    53940.000000      5.010000     79.000000     95.000000  18823.000000   \n",
      "\n",
      "                  x             y             z  \n",
      "count  53940.000000  53940.000000  53940.000000  \n",
      "mean       5.731157      5.734526      3.538734  \n",
      "std        1.121761      1.142135      0.705699  \n",
      "min        0.000000      0.000000      0.000000  \n",
      "25%        4.710000      4.720000      2.910000  \n",
      "50%        5.700000      5.710000      3.530000  \n",
      "75%        6.540000      6.540000      4.040000  \n",
      "max       10.740000     58.900000     31.800000  \n",
      "size of Unnamed: 0 53940\n",
      "size of carat 53940\n",
      "size of cut 53940\n",
      "size of color 53940\n",
      "size of clarity 53940\n",
      "size of depth 53940\n",
      "size of table 53940\n",
      "size of price 53940\n",
      "size of x 53940\n",
      "size of y 53940\n",
      "size of z 53940\n"
     ]
    }
   ],
   "source": [
    "import pandas as pd\n",
    "df = pd.read_csv(\"diamonds.csv\")\n",
    "print(df)\n",
    "print(df.head(5))\n",
    "print(df.tail(5))\n",
    "print(df.describe())\n",
    "for i in df.columns:\n",
    "    print(f\"size of {i}\",df [i].size)"
   ]
  },
  {
   "cell_type": "code",
   "execution_count": 6,
   "id": "cbda6419-cc15-489d-9b0d-c8af2188dd11",
   "metadata": {},
   "outputs": [
    {
     "name": "stdout",
     "output_type": "stream",
     "text": [
      "IQR: 6.75\n"
     ]
    }
   ],
   "source": [
    "import numpy as np\n",
    "import pandas as pd\n",
    "import scipy.stats as sc\n",
    "arr=np.array([24,29,20,22,24,26,27,30,20,31,26,38,44,47])\n",
    "q3,q1=np.percentile(arr,[75,25])\n",
    "print(\"IQR:\",q3-q1)"
   ]
  },
  {
   "cell_type": "code",
   "execution_count": 8,
   "id": "7b3ff19e-3316-495e-89fa-d82f1e917fdc",
   "metadata": {},
   "outputs": [
    {
     "name": "stdout",
     "output_type": "stream",
     "text": [
      "        Name  Score  Attempts Qualify\n",
      "a  Anastasia   12.5         1     yes\n",
      "b       Dima    9.0         3      no\n",
      "c  Katharine   16.5         2     yes\n",
      "d      James    NaN         3      no\n",
      "e      Emily    9.0         2      no\n",
      "f    Micheal   20.0         3     yes\n",
      "g    Matthew   14.5         1     yes\n",
      "h      Laura    NaN         1      no\n",
      "i      Kevin    8.0         2      no\n",
      "j      Jonas   19.0         1     yes\n",
      "Number of rows: 10\n",
      "Number of columns: 4\n"
     ]
    }
   ],
   "source": [
    "import pandas as pd\n",
    "import numpy as np\n",
    "exam_data={'Name':['Anastasia','Dima','Katharine','James','Emily','Micheal','Matthew','Laura','Kevin','Jonas'],'Score':[12.5,9,16.5,np.nan,9,20,14.5,np.nan,8,19],'Attempts':[1,3,2,3,2,3,1,1,2,1],'Qualify':['yes','no','yes','no','no','yes','yes','no','no','yes']}\n",
    "labels = ['a','b','c','d','e','f','g','h','i','j']\n",
    "df=pd.DataFrame(exam_data,index=labels)\n",
    "print(df)\n",
    "total_rows=len(df.axes[0])\n",
    "total_col=len(df.axes[1])\n",
    "print(\"Number of rows:\",total_rows)\n",
    "print(\"Number of columns:\",total_col)"
   ]
  },
  {
   "cell_type": "code",
   "execution_count": 12,
   "id": "c32bdbe2-0ebf-42ae-8051-a61070595c58",
   "metadata": {},
   "outputs": [
    {
     "name": "stdout",
     "output_type": "stream",
     "text": [
      "QTR1     50000\n",
      "QTR2     65898\n",
      "QTRE3    56780\n",
      "QTRE4    89000\n",
      "QTRE4    77900\n",
      "dtype: int64\n"
     ]
    }
   ],
   "source": [
    "import pandas as pd\n",
    "a=[50000,65898,56780,89000,77900]\n",
    "b=['QTR1','QTR2','QTRE3','QTRE4','QTRE4']\n",
    "SQRT=pd.Series(a,index=b)\n",
    "print(SQRT)"
   ]
  },
  {
   "cell_type": "code",
   "execution_count": 13,
   "id": "23917d84-10a2-4098-8871-48b29e387dcf",
   "metadata": {},
   "outputs": [
    {
     "name": "stdout",
     "output_type": "stream",
     "text": [
      "[10, 20, 25, 50, 10, 20, 25, 50]\n",
      "0     20\n",
      "1     40\n",
      "2     50\n",
      "3    100\n",
      "dtype: int64\n"
     ]
    }
   ],
   "source": [
    "import pandas as pd\n",
    "a = [10,20,25,50,]\n",
    "b = pd.Series([10,20,25,50])\n",
    "print(a*2)\n",
    "print(b*2)"
   ]
  },
  {
   "cell_type": "code",
   "execution_count": 14,
   "id": "bdfddffa-ff01-44ff-a93b-8a0691999215",
   "metadata": {},
   "outputs": [
    {
     "name": "stdout",
     "output_type": "stream",
     "text": [
      "S1+S2:\n",
      "0    15.0\n",
      "1    30.0\n",
      "2    45.0\n",
      "3    60.0\n",
      "4    75.0\n",
      "5     NaN\n",
      "dtype: float64\n",
      "\n",
      "S1*S3:\n",
      "0      50.0\n",
      "1     200.0\n",
      "2     450.0\n",
      "3     800.0\n",
      "4    1250.0\n",
      "5       NaN\n",
      "dtype: float64\n",
      "\n",
      " S1-S2\n",
      "0     5.0\n",
      "1    10.0\n",
      "2    15.0\n",
      "3    20.0\n",
      "4    25.0\n",
      "5     NaN\n",
      "dtype: float64\n"
     ]
    }
   ],
   "source": [
    "import pandas as pd\n",
    "S1=pd.Series([10,20,30,40,50])\n",
    "S2=pd.Series([5,10,15,20,25,35])\n",
    "S3=pd.Series([3,6,9,10,11])\n",
    "print(\"S1+S2:\")\n",
    "print(S1+S2)\n",
    "print(\"\\nS1*S3:\")\n",
    "print(S1*S2)\n",
    "print(\"\\n S1-S2\")\n",
    "print(S1-S2)"
   ]
  },
  {
   "cell_type": "code",
   "execution_count": 15,
   "id": "9abde442-dfa5-4a28-8ea8-597198a1a843",
   "metadata": {},
   "outputs": [
    {
     "name": "stdout",
     "output_type": "stream",
     "text": [
      "Range: 51\n"
     ]
    }
   ],
   "source": [
    "import numpy as np\n",
    "data=[13,43,54,34,40,56,34,61,64,23]\n",
    "range_value=np.max(data)-np.min(data)\n",
    "print(\"Range:\",range_value)"
   ]
  },
  {
   "cell_type": "code",
   "execution_count": 24,
   "id": "a29f239f-d23e-4acb-94c7-7c157f2dd681",
   "metadata": {},
   "outputs": [
    {
     "data": {
      "image/png": "[encoded data removed]",
      "text/plain": [
       "<Figure size 1000x600 with 1 Axes>"
      ]
     },
     "metadata": {},
     "output_type": "display_data"
    }
   ],
   "source": [
    "import pandas as pd\n",
    "import matplotlib.pyplot as plt\n",
    "years=[2000,2002,2004,2006,2008,2010,2012,2014,2016,2018]\n",
    "production=[4,6,7,15,24,2,19,5,16,4]\n",
    "plt.figure(figsize=(10,6))\n",
    "plt.bar(years,production,color='skyblue',width=2)\n",
    "plt.title(\"Wheat Production in Diffirent Years\")\n",
    "plt.xlabel('Year')\n",
    "plt.ylabel('Production (in million tons)')\n",
    "plt.xticks(years)\n",
    "plt.grid(axis='y')\n",
    "plt.show()"
   ]
  },
  {
   "cell_type": "code",
   "execution_count": 21,
   "id": "58e259f8-7c9e-4b6c-bec3-d28fd6a537d0",
   "metadata": {},
   "outputs": [
    {
     "name": "stdout",
     "output_type": "stream",
     "text": [
      "Standard Deviation: 0.9035079029052513\n"
     ]
    }
   ],
   "source": [
    "import pandas as pd\n",
    "import numpy as np\n",
    "data=np.array([86,87,88,86,87,85,86])\n",
    "print(\"Standard Deviation:\",np.std(data))"
   ]
  },
  {
   "cell_type": "code",
   "execution_count": 23,
   "id": "23aaeddd-759a-4b85-a8a6-dc8a6562fe99",
   "metadata": {},
   "outputs": [
    {
     "name": "stdout",
     "output_type": "stream",
     "text": [
      "Arithmetic Mean:3.6\n",
      "Geometric Mean:2.913693458576192\n",
      "Harmonic Mean:2.2975929978118166\n"
     ]
    }
   ],
   "source": [
    "import numpy as np\n",
    "from scipy import stats\n",
    "data=[1,3,7,2,5]\n",
    "arithmetic_mean=np.mean(data)\n",
    "geometric_mean=stats.gmean(data)\n",
    "harmonic_mean=stats.hmean(data)\n",
    "print(f\"Arithmetic Mean:{arithmetic_mean}\")\n",
    "print(f\"Geometric Mean:{geometric_mean}\")\n",
    "print(f\"Harmonic Mean:{harmonic_mean}\")"
   ]
  },
  {
   "cell_type": "code",
   "execution_count": null,
   "id": "744b1824-7d30-4a06-9643-3302ac3b8d55",
   "metadata": {},
   "outputs": [],
   "source": []
  }
 ],
 "metadata": {
  "kernelspec": {
   "display_name": "Python 3 (ipykernel)",
   "language": "python",
   "name": "python3"
  },
  "language_info": {
   "codemirror_mode": {
    "name": "ipython",
    "version": 3
   },
   "file_extension": ".py",
   "mimetype": "text/x-python",
   "name": "python",
   "nbconvert_exporter": "python",
   "pygments_lexer": "ipython3",
   "version": "3.10.12"
  }
 },
 "nbformat": 4,
 "nbformat_minor": 5
}
