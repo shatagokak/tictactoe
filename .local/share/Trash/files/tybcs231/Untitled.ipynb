{
 "cells": [
  {
   "cell_type": "code",
   "execution_count": 3,
   "id": "5c494bad-e6b8-4c33-bf36-be2a9b55d67b",
   "metadata": {},
   "outputs": [
    {
     "name": "stdout",
     "output_type": "stream",
     "text": [
      "Enter DataFrame:\n",
      "   Country   Age   Salary Purchased\n",
      "0   France  44.0  72000.0        No\n",
      "1    Spain  27.0  48000.0       Yes\n",
      "2  Germany  30.0  54000.0        No\n",
      "3    Spain  38.0  61000.0        No\n",
      "4  Germany  40.0      NaN       Yes\n",
      "5   France  35.0  58000.0       Yes\n",
      "6    Spain   NaN  52000.0        No\n",
      "7   France  48.0  79000.0       Yes\n",
      "8  Germany  50.0  83000.0        No\n",
      "9   France  37.0  67000.0       Yes\n",
      "describe              Age        Salary\n",
      "count   9.000000      9.000000\n",
      "mean   38.777778  63777.777778\n",
      "std     7.693793  12265.579662\n",
      "min    27.000000  48000.000000\n",
      "25%    35.000000  54000.000000\n",
      "50%    38.000000  61000.000000\n",
      "75%    44.000000  72000.000000\n",
      "max    50.000000  83000.000000\n",
      "shape: (10, 4)\n",
      "   Country   Age   Salary Purchased\n",
      "0   France  44.0  72000.0        No\n",
      "1    Spain  27.0  48000.0       Yes\n",
      "2  Germany  30.0  54000.0        No\n"
     ]
    }
   ],
   "source": [
    "import pandas as pd\n",
    "df=pd.read_csv('Data.csv')\n",
    "print(\"Enter DataFrame:\")\n",
    "print(df)\n",
    "print(\"describe\",df.describe())\n",
    "print(\"shape:\",df.shape)\n",
    "print(df.head(3))"
   ]
  },
  {
   "cell_type": "code",
   "execution_count": 9,
   "id": "5bf9853e-8cd6-4334-a851-57a84d6e15bc",
   "metadata": {},
   "outputs": [
    {
     "name": "stdout",
     "output_type": "stream",
     "text": [
      "Enter DataFrame:\n",
      "describe              Age        Salary\n",
      "count   9.000000      9.000000\n",
      "mean   38.777778  63777.777778\n",
      "std     7.693793  12265.579662\n",
      "min    27.000000  48000.000000\n",
      "25%    35.000000  54000.000000\n",
      "50%    38.000000  61000.000000\n",
      "75%    44.000000  72000.000000\n",
      "max    50.000000  83000.000000\n",
      "shape: (10, 4)\n",
      "   Country   Age   Salary Purchased\n",
      "0   France  44.0  72000.0        No\n",
      "1    Spain  27.0  48000.0       Yes\n",
      "2  Germany  30.0  54000.0        No\n"
     ]
    }
   ],
   "source": [
    "import pandas as pd\n",
    "df=pd.read_csv('Data.csv')\n",
    "print(\"Enter DataFrame:\")\n",
    "print(\"describe\",df.describe())\n",
    "print(\"shape:\",df.shape)\n",
    "print(df.head(3))\n"
   ]
  },
  {
   "cell_type": "code",
   "execution_count": 7,
   "id": "b09ea24e-fbdb-44f0-924a-cf1e3784af6f",
   "metadata": {},
   "outputs": [
    {
     "name": "stdout",
     "output_type": "stream",
     "text": [
      "\n",
      " Displaying Dataset:\n",
      "    Country   Age   Salary Purchased\n",
      "0   France  44.0  72000.0        No\n",
      "1    Spain  27.0  48000.0       Yes\n",
      "2  Germany  30.0  54000.0        No\n",
      "3    Spain  38.0  61000.0        No\n",
      "4  Germany  40.0      NaN       Yes\n",
      "5   France  35.0  58000.0       Yes\n",
      "6    Spain   NaN  52000.0        No\n",
      "7   France  48.0  79000.0       Yes\n",
      "8  Germany  50.0  83000.0        No\n",
      "9   France  37.0  67000.0       Yes\n",
      "\n",
      "***********Modified table***********\n",
      "    Country   Age        Salary Purchased\n",
      "0   France  44.0  72000.000000        No\n",
      "1    Spain  27.0  48000.000000       Yes\n",
      "2  Germany  30.0  54000.000000        No\n",
      "3    Spain  38.0  61000.000000        No\n",
      "4  Germany  40.0  63777.777778       Yes\n",
      "5   France  35.0  58000.000000       Yes\n",
      "6    Spain   NaN  52000.000000        No\n",
      "7   France  48.0  79000.000000       Yes\n",
      "8  Germany  50.0  83000.000000        No\n",
      "9   France  37.0  67000.000000       Yes\n"
     ]
    },
    {
     "name": "stderr",
     "output_type": "stream",
     "text": [
      "/tmp/ipykernel_10027/3773975868.py:5: FutureWarning: A value is trying to be set on a copy of a DataFrame or Series through chained assignment using an inplace method.\n",
      "The behavior will change in pandas 3.0. This inplace method will never work because the intermediate object on which we are setting values always behaves as a copy.\n",
      "\n",
      "For example, when doing 'df[col].method(value, inplace=True)', try using 'df.method({col: value}, inplace=True)' or df[col] = df[col].method(value) instead, to perform the operation inplace on the original object.\n",
      "\n",
      "\n",
      "  data[\"Salary\"]=data['Salary'].fillna(data['Salary'].mean(),inplace=True)\n",
      "/tmp/ipykernel_10027/3773975868.py:6: FutureWarning: A value is trying to be set on a copy of a DataFrame or Series through chained assignment using an inplace method.\n",
      "The behavior will change in pandas 3.0. This inplace method will never work because the intermediate object on which we are setting values always behaves as a copy.\n",
      "\n",
      "For example, when doing 'df[col].method(value, inplace=True)', try using 'df.method({col: value}, inplace=True)' or df[col] = df[col].method(value) instead, to perform the operation inplace on the original object.\n",
      "\n",
      "\n",
      "  data['Age']=data['Age'].fillna(data['Salary'].mean(),inplace=True)\n"
     ]
    }
   ],
   "source": [
    "import pandas as pd\n",
    "data=pd.read_csv('Data.csv')\n",
    "df=pd.DataFrame(data)\n",
    "print(\"\\n Displaying Dataset:\\n\",df)\n",
    "data[\"Salary\"]=data['Salary'].fillna(data['Salary'].mean(),inplace=True)\n",
    "data['Age']=data['Age'].fillna(data['Salary'].mean(),inplace=True)\n",
    "print(\"\\n***********Modified table***********\\n\",df)"
   ]
  },
  {
   "cell_type": "code",
   "execution_count": null,
   "id": "3521580e-0e8e-46a2-8e7f-39ca523b86ad",
   "metadata": {},
   "outputs": [],
   "source": []
  }
 ],
 "metadata": {
  "kernelspec": {
   "display_name": "Python 3 (ipykernel)",
   "language": "python",
   "name": "python3"
  },
  "language_info": {
   "codemirror_mode": {
    "name": "ipython",
    "version": 3
   },
   "file_extension": ".py",
   "mimetype": "text/x-python",
   "name": "python",
   "nbconvert_exporter": "python",
   "pygments_lexer": "ipython3",
   "version": "3.10.12"
  }
 },
 "nbformat": 4,
 "nbformat_minor": 5
}
