{
 "cells": [
  {
   "cell_type": "code",
   "execution_count": 3,
   "id": "5f75fd57-75a5-4bd9-bc15-6ab0a6b9f0d4",
   "metadata": {},
   "outputs": [
    {
     "name": "stdout",
     "output_type": "stream",
     "text": [
      "7.5\n"
     ]
    }
   ],
   "source": [
    "import numpy as np\n",
    "Data=np.array([23,29,20,22,24,26,27,30,20,31,26,38,44,47])\n",
    "q3,q1=np.percentile(Data,[75,25])\n",
    "iqrvalue=q3-q1\n",
    "print(iqrvalue)"
   ]
  },
  {
   "cell_type": "code",
   "execution_count": 6,
   "id": "2c485c97-53de-4f76-832a-101936af85ed",
   "metadata": {},
   "outputs": [
    {
     "name": "stdout",
     "output_type": "stream",
     "text": [
      "        Name  score  Attempts qualify\n",
      "a  Anastasia   12.5         1     yes\n",
      "b       Dima    9.0         3      no\n",
      "c  Katherine   16.5         2     yes\n",
      "d      James    NaN         3      no\n",
      "e      Emily    9.0         2      no\n",
      "f    Michael   20.0         3     yes\n",
      "g    Matthew   14.5         1     yes\n",
      "h      Laura    NaN         1      no\n",
      "i      Kevin    8.0         2      no\n",
      "j      Jonas   19.0         1     yes\n",
      "Total number of rows: 10\n",
      "Total number of columns: 4\n"
     ]
    }
   ],
   "source": [
    "import pandas as pd\n",
    "import numpy as np\n",
    "exam_data={'Name':['Anastasia', 'Dima','Katherine','James','Emily','Michael','Matthew','Laura','Kevin','Jonas'],'score':[12.5,9,16.5,np.nan,9,20,14.5,np.nan,8,19],'Attempts':[1,3,2,3,2,3,1,1,2,1],'qualify':['yes','no','yes','no','no','yes','yes','no','no','yes']}\n",
    "labels=['a','b','c','d','e','f','g','h','i','j']\n",
    "df=pd.DataFrame(exam_data, index=labels)\n",
    "print(df)\n",
    "total_rows = df.shape[0]\n",
    "total_columns = df.shape[1]\n",
    "print(\"Total number of rows:\",total_rows)\n",
    "print(\"Total number of columns:\",total_columns)"
   ]
  },
  {
   "cell_type": "code",
   "execution_count": 8,
   "id": "3de4c764-7993-4f34-9851-a91a9514cbcb",
   "metadata": {},
   "outputs": [
    {
     "name": "stdout",
     "output_type": "stream",
     "text": [
      "QTR1    50000\n",
      "QTR2    65890\n",
      "QTR3    56780\n",
      "QTR4    89000\n",
      "QTR5    77900\n",
      "Name: SQTR, dtype: int64\n"
     ]
    }
   ],
   "source": [
    "import pandas as pd\n",
    "data=[50000,65890,56780,89000,77900]\n",
    "index=['QTR1','QTR2','QTR3','QTR4','QTR5']\n",
    "series=pd.Series(data,index=index,name='SQTR')\n",
    "print(series)"
   ]
  },
  {
   "cell_type": "code",
   "execution_count": 9,
   "id": "1b0626b2-64b3-4ca4-83ab-93b4e9e4c172",
   "metadata": {},
   "outputs": [
    {
     "name": "stdout",
     "output_type": "stream",
     "text": [
      "[10, 20, 25, 50, 10, 20, 25, 50]\n",
      "0     20\n",
      "1     40\n",
      "2     50\n",
      "3    100\n",
      "dtype: int64\n"
     ]
    }
   ],
   "source": [
    "import pandas as pd\n",
    "a=[10,20,25,50]\n",
    "b=pd.Series([10,20,25,50])\n",
    "print(a*2)\n",
    "print(b*2)"
   ]
  },
  {
   "cell_type": "code",
   "execution_count": 12,
   "id": "fbac4f20-3ad5-49c2-83c0-d72ebee88e50",
   "metadata": {},
   "outputs": [
    {
     "name": "stdout",
     "output_type": "stream",
     "text": [
      "S1 + S2:\n",
      "0    15\n",
      "1    30\n",
      "2    45\n",
      "3    60\n",
      "4    75\n",
      "5    65\n",
      "dtype: int64\n",
      "\n",
      "S1 * S3:\n",
      "0     30.0\n",
      "1     20.0\n",
      "2     60.0\n",
      "3    120.0\n",
      "4    200.0\n",
      "5      NaN\n",
      "dtype: float64\n",
      "\n",
      "S1 - S2:\n",
      "0     5\n",
      "1    10\n",
      "2    15\n",
      "3    20\n",
      "4    25\n",
      "5    -5\n",
      "dtype: int64\n"
     ]
    }
   ],
   "source": [
    "import pandas as pd\n",
    "S1=pd.Series([10,20,30,40,50,30])\n",
    "S2=pd.Series([5,10,15,20,25,35],index=[0,1,2,3,4,5])\n",
    "S3=pd.Series([3,1,2,3,4]) \n",
    "print(\"S1 + S2:\")\n",
    "print(S1+S2)\n",
    "print(\"\\nS1 * S3:\")\n",
    "print(S1 * S3)\n",
    "print(\"\\nS1 - S2:\")\n",
    "print(S1 - S2)"
   ]
  },
  {
   "cell_type": "code",
   "execution_count": 13,
   "id": "1f118ab5-eda4-4f87-9151-4c8fdbce4f3a",
   "metadata": {},
   "outputs": [
    {
     "name": "stdout",
     "output_type": "stream",
     "text": [
      "Range: 51\n"
     ]
    }
   ],
   "source": [
    "import numpy as np\n",
    "data=[13,43,54,34,40,56,34,61,64,23]\n",
    "range_value = np.max(data) - np.min(data)\n",
    "print(\"Range:\",range_value)"
   ]
  },
  {
   "cell_type": "code",
   "execution_count": 15,
   "id": "b9a75db4-923a-459f-a9f8-77c40f1e071a",
   "metadata": {},
   "outputs": [
    {
     "name": "stdout",
     "output_type": "stream",
     "text": [
      "   year  production\n",
      "0  2001           2\n",
      "1  2002           3\n",
      "2  2003           4\n",
      "3  2004           6\n",
      "4  2005           7\n"
     ]
    },
    {
     "data": {
      "image/png": "[encoded data removed]",
      "text/plain": [
       "<Figure size 640x480 with 1 Axes>"
      ]
     },
     "metadata": {},
     "output_type": "display_data"
    }
   ],
   "source": [
    "import pandas as pd\n",
    "import matplotlib.pyplot as plt\n",
    "data={'year':['2001','2002','2003','2004','2005'],'production':[2,3,4,6,7]}\n",
    "df=pd.DataFrame(data)\n",
    "print(df)\n",
    "x=df.hist(column='production',bins=5)\n",
    "plt.show(x)"
   ]
  },
  {
   "cell_type": "code",
   "execution_count": 16,
   "id": "281e8523-7ed9-41a6-89db-2bb3d738b57e",
   "metadata": {},
   "outputs": [
    {
     "name": "stdout",
     "output_type": "stream",
     "text": [
      "Standard Deviation: 0.9035079029052513\n"
     ]
    }
   ],
   "source": [
    "import pandas as pd\n",
    "import numpy as np\n",
    "data=np.array([86,87,88,86,87,85,86])\n",
    "print(\"Standard Deviation:\",np.std(data))"
   ]
  },
  {
   "cell_type": "code",
   "execution_count": 17,
   "id": "f9af7846-1b8d-4052-98cd-06082170bf18",
   "metadata": {},
   "outputs": [
    {
     "name": "stdout",
     "output_type": "stream",
     "text": [
      "Arithemetic Mean:3.6\n",
      "Geometric Mean:2.913693458576192\n",
      "harmonic Mean:2.2975929978118166\n"
     ]
    }
   ],
   "source": [
    "import numpy as np\n",
    "from scipy import stats\n",
    "data=[1,3,7,2,5]\n",
    "arithemetic_mean=np.mean(data)\n",
    "geometric_mean=stats.gmean(data)\n",
    "harmonic_mean=stats.hmean(data)\n",
    "print(f\"Arithemetic Mean:{arithemetic_mean}\")\n",
    "print(f\"Geometric Mean:{geometric_mean}\")\n",
    "print(f\"harmonic Mean:{harmonic_mean}\")"
   ]
  },
  {
   "cell_type": "code",
   "execution_count": null,
   "id": "2e937c47-0f7f-4397-bb4d-356b0c16d0ee",
   "metadata": {},
   "outputs": [],
   "source": []
  }
 ],
 "metadata": {
  "kernelspec": {
   "display_name": "Python 3 (ipykernel)",
   "language": "python",
   "name": "python3"
  },
  "language_info": {
   "codemirror_mode": {
    "name": "ipython",
    "version": 3
   },
   "file_extension": ".py",
   "mimetype": "text/x-python",
   "name": "python",
   "nbconvert_exporter": "python",
   "pygments_lexer": "ipython3",
   "version": "3.10.12"
  }
 },
 "nbformat": 4,
 "nbformat_minor": 5
}
