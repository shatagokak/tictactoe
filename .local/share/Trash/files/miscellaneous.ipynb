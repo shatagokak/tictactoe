{
 "cells": [
  {
   "cell_type": "code",
   "execution_count": 3,
   "id": "ed4bc7cc-4a7f-4ecf-84d8-6c3007177412",
   "metadata": {},
   "outputs": [
    {
     "name": "stdout",
     "output_type": "stream",
     "text": [
      "       Tag  Number\n",
      "0   Search     110\n",
      "1  Quality      45\n",
      "2  Minimum      24\n"
     ]
    }
   ],
   "source": [
    "import pandas as pd\n",
    "df=pd.DataFrame(columns=['Tag','Number'])\n",
    "df.loc[0]=['Search',110]\n",
    "df.loc[1]=['Quality',45]\n",
    "df.loc[2]=['Minimum',24]\n",
    "print(df)"
   ]
  },
  {
   "cell_type": "code",
   "execution_count": 4,
   "id": "372d7d5e-447e-4475-91c1-1910f5d0284f",
   "metadata": {},
   "outputs": [
    {
     "name": "stdout",
     "output_type": "stream",
     "text": [
      "   FName     LName  Age\n",
      "0    tom   reacher   25\n",
      "1  krish      pete   30\n",
      "2   nick    wilson   26\n",
      "3   juli  willians   22\n"
     ]
    }
   ],
   "source": [
    "import pandas as pd\n",
    "df=pd.DataFrame(columns=['FName','LName','Age'])\n",
    "df.loc[0]=['tom','reacher',25]\n",
    "df.loc[1]=['krish','pete',30]\n",
    "df.loc[2]=['nick','wilson',26]\n",
    "df.loc[3]=['juli','willians',22]\n",
    "print(df)"
   ]
  },
  {
   "cell_type": "code",
   "execution_count": 6,
   "id": "0d5fde37-c8e4-45f2-ada1-e254fb88ec26",
   "metadata": {},
   "outputs": [
    {
     "name": "stdout",
     "output_type": "stream",
     "text": [
      "  Category         Name  Marks\n",
      "0       DS  Linked_list     10\n",
      "1       DS        Stack      9\n",
      "2       DS        Queue      7\n",
      "3     Algo       Greedy      8\n",
      "4     Algo           DP      6\n",
      "5     Algo    BackTrack      5\n"
     ]
    }
   ],
   "source": [
    "import pandas as pd\n",
    "df=pd.DataFrame(columns=['Category','Name','Marks'])\n",
    "df.loc[0]=['DS','Linked_list',10]\n",
    "df.loc[1]=['DS','Stack',9]\n",
    "df.loc[2]=['DS','Queue',7]\n",
    "df.loc[3]=['Algo','Greedy',8]\n",
    "df.loc[4]=['Algo','DP',6]\n",
    "df.loc[5]=['Algo','BackTrack',5]\n",
    "print(df)"
   ]
  },
  {
   "cell_type": "code",
   "execution_count": 11,
   "id": "c85f16b8-3b63-497a-966b-53f2a772eee3",
   "metadata": {},
   "outputs": [
    {
     "name": "stdout",
     "output_type": "stream",
     "text": [
      "     Name  Marks Status\n",
      "0     Tom      9   Fail\n",
      "1    Jack     19   Pass\n",
      "2   Lucky     20   Pass\n",
      "3     Bob     17   Pass\n",
      "4   Jerry     11   Pass\n",
      "5   Alice     18   Pass\n",
      "6  Thomas      5   Fail\n",
      "7  Barbie      8   Fail\n",
      "First 3 rows:\n",
      "\n",
      "    Name  Marks Status\n",
      "0    Tom      9   Fail\n",
      "1   Jack     19   Pass\n",
      "2  Lucky     20   Pass\n",
      "Last 5 rows:\n",
      "\n",
      "     Name  Marks Status\n",
      "3     Bob     17   Pass\n",
      "4   Jerry     11   Pass\n",
      "5   Alice     18   Pass\n",
      "6  Thomas      5   Fail\n",
      "7  Barbie      8   Fail\n",
      "First 3 records using iloc:\n",
      "\n"
     ]
    },
    {
     "data": {
      "text/html": [
       "<div>\n",
       "<style scoped>\n",
       "    .dataframe tbody tr th:only-of-type {\n",
       "        vertical-align: middle;\n",
       "    }\n",
       "\n",
       "    .dataframe tbody tr th {\n",
       "        vertical-align: top;\n",
       "    }\n",
       "\n",
       "    .dataframe thead th {\n",
       "        text-align: right;\n",
       "    }\n",
       "</style>\n",
       "<table border=\"1\" class=\"dataframe\">\n",
       "  <thead>\n",
       "    <tr style=\"text-align: right;\">\n",
       "      <th></th>\n",
       "      <th>Name</th>\n",
       "      <th>Marks</th>\n",
       "      <th>Status</th>\n",
       "    </tr>\n",
       "  </thead>\n",
       "  <tbody>\n",
       "    <tr>\n",
       "      <th>0</th>\n",
       "      <td>Tom</td>\n",
       "      <td>9</td>\n",
       "      <td>Fail</td>\n",
       "    </tr>\n",
       "    <tr>\n",
       "      <th>1</th>\n",
       "      <td>Jack</td>\n",
       "      <td>19</td>\n",
       "      <td>Pass</td>\n",
       "    </tr>\n",
       "    <tr>\n",
       "      <th>2</th>\n",
       "      <td>Lucky</td>\n",
       "      <td>20</td>\n",
       "      <td>Pass</td>\n",
       "    </tr>\n",
       "  </tbody>\n",
       "</table>\n",
       "</div>"
      ],
      "text/plain": [
       "    Name  Marks Status\n",
       "0    Tom      9   Fail\n",
       "1   Jack     19   Pass\n",
       "2  Lucky     20   Pass"
      ]
     },
     "execution_count": 11,
     "metadata": {},
     "output_type": "execute_result"
    }
   ],
   "source": [
    "import pandas as pd\n",
    "df=pd.DataFrame(columns=['Name','Marks','Status'])\n",
    "df.loc[0]=['Tom',9,'Fail']\n",
    "df.loc[1]=['Jack',19,'Pass']\n",
    "df.loc[2]=['Lucky',20,'Pass']\n",
    "df.loc[3]=['Bob',17,'Pass']\n",
    "df.loc[4]=['Jerry',11,'Pass']\n",
    "df.loc[5]=['Alice',18,'Pass']\n",
    "df.loc[6]=['Thomas',5,'Fail']\n",
    "df.loc[7]=['Barbie',8,'Fail']\n",
    "print(df)\n",
    "print(\"First 3 rows:\\n\")\n",
    "print(df.head(3))\n",
    "print(\"Last 5 rows:\\n\")\n",
    "print(df.tail(5))\n",
    "print(\"First 3 records using iloc:\\n\")\n",
    "df.iloc[0:3]"
   ]
  },
  {
   "cell_type": "code",
   "execution_count": 15,
   "id": "56313ed4-a507-428a-8511-556434e22bcb",
   "metadata": {},
   "outputs": [
    {
     "name": "stdout",
     "output_type": "stream",
     "text": [
      "IQR: 6.75\n"
     ]
    }
   ],
   "source": [
    "import numpy as np\n",
    "import pandas as pd\n",
    "import scipy.stats as sc\n",
    "arr=np.array([24,29,20,22,24,26,27,30,20,31,26,38,44,47])\n",
    "q3,q1=np.percentile(arr,[75,25])\n",
    "print(\"IQR:\",q3-q1)"
   ]
  },
  {
   "cell_type": "code",
   "execution_count": 19,
   "id": "415891f9-6ef2-474d-98cc-4ca51b59ab24",
   "metadata": {},
   "outputs": [
    {
     "name": "stdout",
     "output_type": "stream",
     "text": [
      "  Name  Score  Attempts Quality\n",
      "a  NaN    NaN       NaN     NaN\n",
      "b  NaN    NaN       NaN     NaN\n",
      "c  NaN    NaN       NaN     NaN\n"
     ]
    }
   ],
   "source": [
    "import pandas as pd\n",
    "exam_data={'Name':pd.Series(['Anastasia','Dima','Katharine']),'Score':pd.Series([12.5,9,np.nan,16.5,]),'Attempts':pd.Series([1,3,2,1]),'Quality':pd.Series(['yes','no','yes'])}\n",
    "df=pd.DataFrame(exam_data,index=labels)\n",
    "print(df)"
   ]
  },
  {
   "cell_type": "code",
   "execution_count": 20,
   "id": "dd144b50-cd65-4b47-8928-0484e3f341fe",
   "metadata": {},
   "outputs": [
    {
     "name": "stdout",
     "output_type": "stream",
     "text": [
      "  Name  Score  Attempts Quality\n",
      "a  NaN    NaN       NaN     NaN\n",
      "b  NaN    NaN       NaN     NaN\n",
      "c  NaN    NaN       NaN     NaN\n"
     ]
    }
   ],
   "source": [
    "import pandas as pd\n",
    "exam_data={'Name':pd.Series(['Anastasia','Dima','Katharine']),'Score':pd.Series([12.5,9,16.5,]),'Attempts':pd.Series([1,3,2,1]),'Quality':pd.Series(['yes','no','yes'])}\n",
    "labels=['a','b','c']\n",
    "df=pd.DataFrame(exam_data,index=labels)\n",
    "total_rows=df.shape[0]\n",
    "total_columns=df.shape[1]\n",
    "print(df)\n"
   ]
  },
  {
   "cell_type": "code",
   "execution_count": 21,
   "id": "e2b321e4-25da-4028-871e-e296a959d324",
   "metadata": {},
   "outputs": [
    {
     "name": "stdout",
     "output_type": "stream",
     "text": [
      "QTR1     50000\n",
      "QTR2     65898\n",
      "QTRE3    56780\n",
      "QTRE4    89000\n",
      "QTRE4    77900\n",
      "Name: SQRT, dtype: int64\n"
     ]
    }
   ],
   "source": [
    "import pandas as pd\n",
    "#Date for the series \n",
    "data=[50000,65898,56780,89000,77900]\n",
    "index=['QTR1','QTR2','QTRE3','QTRE4','QTRE4']\n",
    "#create the series\n",
    "series=pd.Series(data,index=index,name='SQRT')\n",
    "#Display the series\n",
    "print(series)"
   ]
  },
  {
   "cell_type": "code",
   "execution_count": 22,
   "id": "1ada91b1-91c8-42c9-ad41-78a5fc3504c4",
   "metadata": {},
   "outputs": [
    {
     "name": "stdout",
     "output_type": "stream",
     "text": [
      "[10, 20, 25, 50, 10, 20, 25, 50]\n",
      "0     20\n",
      "1     40\n",
      "2     50\n",
      "3    100\n",
      "dtype: int64\n"
     ]
    }
   ],
   "source": [
    "import pandas as pd\n",
    "#create the list a\n",
    "a=[10,20,25,50]\n",
    "#create the series\n",
    "b=pd.Series([10,20,25,50])\n",
    "#perform the oeprations\n",
    "print(a*2)\n",
    "print(b*2)"
   ]
  },
  {
   "cell_type": "code",
   "execution_count": 25,
   "id": "f6283fe4-4aff-4b6f-be2c-83ef9f3be1a9",
   "metadata": {},
   "outputs": [
    {
     "name": "stdout",
     "output_type": "stream",
     "text": [
      "S1+S2:\n",
      "0    15\n",
      "1    30\n",
      "2    45\n",
      "3    60\n",
      "4    75\n",
      "5    65\n",
      "dtype: int64\n",
      "\n",
      "S1*S3:\n",
      "0      50\n",
      "1     200\n",
      "2     450\n",
      "3     800\n",
      "4    1250\n",
      "5    1050\n",
      "dtype: int64\n",
      "\n",
      " S1-S2\n",
      "0     5\n",
      "1    10\n",
      "2    15\n",
      "3    20\n",
      "4    25\n",
      "5    -5\n",
      "dtype: int64\n"
     ]
    }
   ],
   "source": [
    "import pandas as pd\n",
    "#Display the series\n",
    "S1=pd.Series([10,20,30,40,50,30])\n",
    "S2=pd.Series([5,10,15,20,25,35])\n",
    "S3=pd.Series([3,1,2,3,4])\n",
    "#perform the operations\n",
    "print(\"S1+S2:\")\n",
    "print(S1+S2)\n",
    "print(\"\\nS1*S3:\")\n",
    "print(S1*S2)\n",
    "print(\"\\n S1-S2\")\n",
    "print(S1-S2)"
   ]
  },
  {
   "cell_type": "code",
   "execution_count": 26,
   "id": "098d6149-e433-4ba1-83a5-7eb18f268b9e",
   "metadata": {},
   "outputs": [
    {
     "name": "stdout",
     "output_type": "stream",
     "text": [
      "Range: 51\n"
     ]
    }
   ],
   "source": [
    "import numpy as np\n",
    "#Data\n",
    "data=[13,43,54,34,40,56,34,61,64,23]\n",
    "#calculate\n",
    "range_value=np.max(data)-np.min(data)\n",
    "#Display the range\n",
    "print(\"Range:\",range_value)\n"
   ]
  },
  {
   "cell_type": "code",
   "execution_count": 5,
   "id": "5f6e25d7-9f59-42b3-987c-1f8ef5ff1ac9",
   "metadata": {},
   "outputs": [
    {
     "data": {
      "image/png": "[encoded data removed]",
      "text/plain": [
       "<Figure size 1000x400 with 1 Axes>"
      ]
     },
     "metadata": {},
     "output_type": "display_data"
    }
   ],
   "source": [
    "import matplotlib.pyplot as plt\n",
    "import numpy as np\n",
    "years=[2000,2002,2004,2006,2008,2010,2012,2014,2016,2018]\n",
    "production=[4,6,7,15,24,2,19,5,16,4]\n",
    "#create histogram \n",
    "plt.figure(figsize=(10,4))\n",
    "plt.bar(years,production,width=2)\n",
    "plt.title(\"Wheat Production in Diffirent Years\")\n",
    "plt.xlabel('Year')\n",
    "plt.ylabel('Production')\n",
    "plt.xticks(years)\n",
    "plt.grid(axis='y',linewidth=0.5)\n",
    "plt.show()"
   ]
  },
  {
   "cell_type": "code",
   "execution_count": 30,
   "id": "6cc284f9-2c2c-49c8-bb95-5d6786ad8fea",
   "metadata": {},
   "outputs": [
    {
     "name": "stdout",
     "output_type": "stream",
     "text": [
      "Standard Deviation: 0.9035079029052513\n"
     ]
    }
   ],
   "source": [
    "import pandas as pd\n",
    "import numpy as np\n",
    "#Data\n",
    "data=np.array([86,87,88,86,87,85,86])\n",
    "#Dispaly the standard deviation\n",
    "print(\"Standard Deviation:\",np.std(data))"
   ]
  },
  {
   "cell_type": "code",
   "execution_count": 36,
   "id": "ef4f4440-82d9-4909-8a39-4c3ef805eb13",
   "metadata": {},
   "outputs": [
    {
     "name": "stdout",
     "output_type": "stream",
     "text": [
      "Arithmetic Mean:3.6\n",
      "Geometric Mean:2.913693458576192\n",
      "Harmonic Mean:2.2975929978118166\n"
     ]
    }
   ],
   "source": [
    "import numpy as np\n",
    "from spicy import stats\n",
    "#Data\n",
    "data=[1,3,7,2,5]\n",
    "#Arithmetic Mean\n",
    "arithmetic_mean=np.mean(data)\n",
    "#Geometric mean\n",
    "geometric_mean=stats.gmean(data)\n",
    "#Harmonic Mean\n",
    "harmonic_mean=stats.hmean(data)\n",
    "print(f\"Arithmetic Mean:{arithmetic_mean}\")\n",
    "print(f\"Geometric Mean:{geometric_mean}\")\n",
    "print(f\"Harmonic Mean:{harmonic_mean}\")"
   ]
  },
  {
   "cell_type": "code",
   "execution_count": null,
   "id": "98e0bcf4-b0f4-4d34-9cf3-c5e00cc7a4b7",
   "metadata": {},
   "outputs": [],
   "source": []
  }
 ],
 "metadata": {
  "kernelspec": {
   "display_name": "Python 3 (ipykernel)",
   "language": "python",
   "name": "python3"
  },
  "language_info": {
   "codemirror_mode": {
    "name": "ipython",
    "version": 3
   },
   "file_extension": ".py",
   "mimetype": "text/x-python",
   "name": "python",
   "nbconvert_exporter": "python",
   "pygments_lexer": "ipython3",
   "version": "3.10.12"
  }
 },
 "nbformat": 4,
 "nbformat_minor": 5
}
