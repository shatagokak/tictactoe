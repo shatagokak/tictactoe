{
 "cells": [
  {
   "cell_type": "code",
   "execution_count": 11,
   "id": "35f70d48-b1c4-45b1-92fa-bb0be09c2e41",
   "metadata": {},
   "outputs": [
    {
     "name": "stdout",
     "output_type": "stream",
     "text": [
      "6.75\n"
     ]
    }
   ],
   "source": [
    "import numpy as np\n",
    "Data=np.array([24,29,20,22,24,26,27,30,20,31,26,38,44,47])\n",
    "q3,q1 =np.percentile(Data, [75,25])\n",
    "iqrvalue=q3-q1\n",
    "print(iqrvalue)"
   ]
  },
  {
   "cell_type": "code",
   "execution_count": 14,
   "id": "09d49652-868e-4b31-ad04-f43653336773",
   "metadata": {},
   "outputs": [
    {
     "name": "stdout",
     "output_type": "stream",
     "text": [
      "\n",
      " Original flatend Array:\n",
      " [[25 26 45]\n",
      " [12 36 42]\n",
      " [ 8 50 65]]\n",
      "\n",
      " Maximum value of flattened Array:\n",
      " 65\n",
      "\n",
      " Minimum value of flattened Array:\n",
      " 8\n"
     ]
    }
   ],
   "source": [
    "import numpy as np\n",
    "arr=np.array([[25,26,45],[12,36,42],[8,50,65]])\n",
    "print(\"\\n Original flatend Array:\\n\",arr)\n",
    "arr.flatten()\n",
    "max=np.max(arr)\n",
    "print(\"\\n Maximum value of flattened Array:\\n\",max)\n",
    "min=np.min(arr)\n",
    "print(\"\\n Minimum value of flattened Array:\\n\",min)\n",
    "\n",
    "\n"
   ]
  },
  {
   "cell_type": "code",
   "execution_count": 16,
   "id": "eb556492-e92e-43ae-9e41-52ce0b861bbc",
   "metadata": {},
   "outputs": [
    {
     "name": "stdout",
     "output_type": "stream",
     "text": [
      "5.196152422706632\n"
     ]
    }
   ],
   "source": [
    "import numpy as np\n",
    "pt1=np.array([1,2,3])\n",
    "pt2=np.array([4,5,6])\n",
    "ans=np.linalg.norm(pt1-pt2)\n",
    "print(ans)"
   ]
  },
  {
   "cell_type": "code",
   "execution_count": 19,
   "id": "dd35fa43-542b-4fb2-8cd5-97f489ca3dd8",
   "metadata": {},
   "outputs": [
    {
     "name": "stdout",
     "output_type": "stream",
     "text": [
      "mean= 5.5\n",
      "IQR 4.5\n",
      "range 9\n"
     ]
    }
   ],
   "source": [
    "import pandas as pd\n",
    "import numpy as np\n",
    "d=[1,2,3,4,5,6,7,8,9,10]\n",
    "df=pd.DataFrame(d)\n",
    "print(\"mean=\",np.mean(d))\n",
    "q3,q1=np.percentile(d,[75,25])\n",
    "print(\"IQR\",q3-q1)\n",
    "print(\"range\",np.max(d)-np.min(d))\n"
   ]
  },
  {
   "cell_type": "code",
   "execution_count": 20,
   "id": "01da324e-c061-473c-be52-8123aa7454d6",
   "metadata": {},
   "outputs": [
    {
     "name": "stdout",
     "output_type": "stream",
     "text": [
      "Euclidean distance between two poitns: 2.23606797749979\n"
     ]
    }
   ],
   "source": [
    "import numpy as np\n",
    "pt1=np.array([1,2,3])\n",
    "pt2=np.array([1,1,1])\n",
    "dist=np.linalg.norm(pt1-pt2)\n",
    "print(\"Euclidean distance between two poitns:\",dist)"
   ]
  },
  {
   "cell_type": "code",
   "execution_count": 31,
   "id": "a4de7257-1175-4e08-a10a-43b8a9f0c1fc",
   "metadata": {},
   "outputs": [],
   "source": [
    "import numpy as np\n",
    "pt1=[4,5]\n",
    "pt2=[7,9]\n",
    "n=len(pt1)\n",
    "def MD(pt1,pt2,n):\n",
    "    sum=0\n",
    "    for i in range(n):\n",
    "        for j in range(i+1,n):\n",
    "            sum+=abs[pt1[i]-pt2[j]]+abs(pt2[i]-pt1[j])\n",
    "    print(sum)\n",
    "        "
   ]
  },
  {
   "cell_type": "code",
   "execution_count": 32,
   "id": "a33493e9-9113-421a-a332-c315de92fe7c",
   "metadata": {},
   "outputs": [],
   "source": [
    "import numpy as np\n",
    "pt1=[4,5]\n",
    "pt2=[7,9]\n",
    "n=len(pt1)\n",
    "def MD(pt1,pt2,n):\n",
    "    sum=0\n",
    "    for i in range(n):\n",
    "        for j in range(i+1,n):\n",
    "            sum+=abs[pt1[i]-pt2[j]]+abs(pt2[i]-pt1[j])\n",
    "    print(sum)\n",
    "        "
   ]
  },
  {
   "cell_type": "code",
   "execution_count": 33,
   "id": "c2036f52-a315-4cba-8685-83ad0d5e10b2",
   "metadata": {},
   "outputs": [
    {
     "name": "stdout",
     "output_type": "stream",
     "text": [
      "histogram: (array([2, 3, 1]), array([0, 1, 2, 3]))\n"
     ]
    },
    {
     "data": {
      "image/png": "[encoded data removed]",
      "text/plain": [
       "<Figure size 640x480 with 1 Axes>"
      ]
     },
     "metadata": {},
     "output_type": "display_data"
    }
   ],
   "source": [
    "import numpy as np\n",
    "import matplotlib.pyplot as plt\n",
    "nums=np.array([[0.5,0.7,1.0,1.2,1.3,2.1]])\n",
    "bins=np.array([0,1,2,3])\n",
    "print(\"histogram:\",np.histogram(nums,bins))\n",
    "plt.hist(nums,bins)\n",
    "plt.show()"
   ]
  },
  {
   "cell_type": "raw",
   "id": "be48f3e6-5d19-4e2e-8f4c-be5366e1fe72",
   "metadata": {},
   "source": [
    "\n"
   ]
  },
  {
   "cell_type": "code",
   "execution_count": 35,
   "id": "bd349994-4421-49c4-9de0-ac7f17b369bf",
   "metadata": {},
   "outputs": [
    {
     "ename": "TypeError",
     "evalue": "'set' type is unordered",
     "output_type": "error",
     "traceback": [
      "\u001b[0;31m---------------------------------------------------------------------------\u001b[0m",
      "\u001b[0;31mTypeError\u001b[0m                                 Traceback (most recent call last)",
      "Cell \u001b[0;32mIn[35], line 3\u001b[0m\n\u001b[1;32m      1\u001b[0m \u001b[38;5;28;01mimport\u001b[39;00m \u001b[38;5;21;01mpandas\u001b[39;00m \u001b[38;5;28;01mas\u001b[39;00m \u001b[38;5;21;01mpd\u001b[39;00m\n\u001b[1;32m      2\u001b[0m \u001b[38;5;28;01mimport\u001b[39;00m \u001b[38;5;21;01mnumpy\u001b[39;00m \u001b[38;5;28;01mas\u001b[39;00m \u001b[38;5;21;01mnp\u001b[39;00m\n\u001b[0;32m----> 3\u001b[0m d\u001b[38;5;241m=\u001b[39m{\u001b[38;5;124m'\u001b[39m\u001b[38;5;124mName\u001b[39m\u001b[38;5;124m'\u001b[39m:\u001b[43mpd\u001b[49m\u001b[38;5;241;43m.\u001b[39;49m\u001b[43mSeries\u001b[49m\u001b[43m(\u001b[49m\u001b[43m{\u001b[49m\u001b[38;5;124;43m'\u001b[39;49m\u001b[38;5;124;43mbushra\u001b[39;49m\u001b[38;5;124;43m'\u001b[39;49m\u001b[43m,\u001b[49m\u001b[38;5;124;43m'\u001b[39;49m\u001b[38;5;124;43mmisbah\u001b[39;49m\u001b[38;5;124;43m'\u001b[39;49m\u001b[43m,\u001b[49m\u001b[38;5;124;43m'\u001b[39;49m\u001b[38;5;124;43mminab\u001b[39;49m\u001b[38;5;124;43m'\u001b[39;49m\u001b[43m,\u001b[49m\u001b[38;5;124;43m'\u001b[39;49m\u001b[38;5;124;43mmehwish\u001b[39;49m\u001b[38;5;124;43m'\u001b[39;49m\u001b[43m}\u001b[49m\u001b[43m)\u001b[49m,\u001b[38;5;124m'\u001b[39m\u001b[38;5;124mPercentage\u001b[39m\u001b[38;5;124m'\u001b[39m:pd\u001b[38;5;241m.\u001b[39mSeries([\u001b[38;5;241m90\u001b[39m,\u001b[38;5;241m91\u001b[39m,\u001b[38;5;241m92\u001b[39m,\u001b[38;5;241m93\u001b[39m]),\u001b[38;5;124m'\u001b[39m\u001b[38;5;124mAge\u001b[39m\u001b[38;5;124m'\u001b[39m:pd\u001b[38;5;241m.\u001b[39mSeries([\u001b[38;5;241m20\u001b[39m,\u001b[38;5;241m20\u001b[39m,\u001b[38;5;241m20\u001b[39m,\u001b[38;5;241m20\u001b[39m])}\n\u001b[1;32m      4\u001b[0m df\u001b[38;5;241m=\u001b[39mpd\u001b[38;5;241m.\u001b[39mDataFrame(d)\n\u001b[1;32m      5\u001b[0m \u001b[38;5;28mprint\u001b[39m(df)\n",
      "File \u001b[0;32m~/.local/lib/python3.10/site-packages/pandas/core/series.py:584\u001b[0m, in \u001b[0;36mSeries.__init__\u001b[0;34m(self, data, index, dtype, name, copy, fastpath)\u001b[0m\n\u001b[1;32m    582\u001b[0m         data \u001b[38;5;241m=\u001b[39m data\u001b[38;5;241m.\u001b[39mcopy()\n\u001b[1;32m    583\u001b[0m \u001b[38;5;28;01melse\u001b[39;00m:\n\u001b[0;32m--> 584\u001b[0m     data \u001b[38;5;241m=\u001b[39m \u001b[43msanitize_array\u001b[49m\u001b[43m(\u001b[49m\u001b[43mdata\u001b[49m\u001b[43m,\u001b[49m\u001b[43m \u001b[49m\u001b[43mindex\u001b[49m\u001b[43m,\u001b[49m\u001b[43m \u001b[49m\u001b[43mdtype\u001b[49m\u001b[43m,\u001b[49m\u001b[43m \u001b[49m\u001b[43mcopy\u001b[49m\u001b[43m)\u001b[49m\n\u001b[1;32m    586\u001b[0m     manager \u001b[38;5;241m=\u001b[39m _get_option(\u001b[38;5;124m\"\u001b[39m\u001b[38;5;124mmode.data_manager\u001b[39m\u001b[38;5;124m\"\u001b[39m, silent\u001b[38;5;241m=\u001b[39m\u001b[38;5;28;01mTrue\u001b[39;00m)\n\u001b[1;32m    587\u001b[0m     \u001b[38;5;28;01mif\u001b[39;00m manager \u001b[38;5;241m==\u001b[39m \u001b[38;5;124m\"\u001b[39m\u001b[38;5;124mblock\u001b[39m\u001b[38;5;124m\"\u001b[39m:\n",
      "File \u001b[0;32m~/.local/lib/python3.10/site-packages/pandas/core/construction.py:642\u001b[0m, in \u001b[0;36msanitize_array\u001b[0;34m(data, index, dtype, copy, allow_2d)\u001b[0m\n\u001b[1;32m    633\u001b[0m     \u001b[38;5;28;01mreturn\u001b[39;00m sanitize_array(\n\u001b[1;32m    634\u001b[0m         data,\n\u001b[1;32m    635\u001b[0m         index\u001b[38;5;241m=\u001b[39mindex,\n\u001b[0;32m   (...)\u001b[0m\n\u001b[1;32m    638\u001b[0m         allow_2d\u001b[38;5;241m=\u001b[39mallow_2d,\n\u001b[1;32m    639\u001b[0m     )\n\u001b[1;32m    641\u001b[0m \u001b[38;5;28;01melse\u001b[39;00m:\n\u001b[0;32m--> 642\u001b[0m     \u001b[43m_sanitize_non_ordered\u001b[49m\u001b[43m(\u001b[49m\u001b[43mdata\u001b[49m\u001b[43m)\u001b[49m\n\u001b[1;32m    643\u001b[0m     \u001b[38;5;66;03m# materialize e.g. generators, convert e.g. tuples, abc.ValueView\u001b[39;00m\n\u001b[1;32m    644\u001b[0m     data \u001b[38;5;241m=\u001b[39m \u001b[38;5;28mlist\u001b[39m(data)\n",
      "File \u001b[0;32m~/.local/lib/python3.10/site-packages/pandas/core/construction.py:693\u001b[0m, in \u001b[0;36m_sanitize_non_ordered\u001b[0;34m(data)\u001b[0m\n\u001b[1;32m    689\u001b[0m \u001b[38;5;250m\u001b[39m\u001b[38;5;124;03m\"\"\"\u001b[39;00m\n\u001b[1;32m    690\u001b[0m \u001b[38;5;124;03mRaise only for unordered sets, e.g., not for dict_keys\u001b[39;00m\n\u001b[1;32m    691\u001b[0m \u001b[38;5;124;03m\"\"\"\u001b[39;00m\n\u001b[1;32m    692\u001b[0m \u001b[38;5;28;01mif\u001b[39;00m \u001b[38;5;28misinstance\u001b[39m(data, (\u001b[38;5;28mset\u001b[39m, \u001b[38;5;28mfrozenset\u001b[39m)):\n\u001b[0;32m--> 693\u001b[0m     \u001b[38;5;28;01mraise\u001b[39;00m \u001b[38;5;167;01mTypeError\u001b[39;00m(\u001b[38;5;124mf\u001b[39m\u001b[38;5;124m\"\u001b[39m\u001b[38;5;124m'\u001b[39m\u001b[38;5;132;01m{\u001b[39;00m\u001b[38;5;28mtype\u001b[39m(data)\u001b[38;5;241m.\u001b[39m\u001b[38;5;18m__name__\u001b[39m\u001b[38;5;132;01m}\u001b[39;00m\u001b[38;5;124m'\u001b[39m\u001b[38;5;124m type is unordered\u001b[39m\u001b[38;5;124m\"\u001b[39m)\n",
      "\u001b[0;31mTypeError\u001b[0m: 'set' type is unordered"
     ]
    }
   ],
   "source": [
    "import pandas as pd\n",
    "import numpy as np\n",
    "d={'Name':pd.Series({'bushra','misbah','minab','mehwish'}),'Percentage':pd.Series([90,91,92,93]),'Age':pd.Series([20,20,20,20])}\n",
    "df=pd.DataFrame(d)\n",
    "print(df)\n",
    "print(\"average of age:\",sum(df['age']/len(df['age'])))\n",
    "print(\"average og graduation percentage:\",sum(df['percentage']/len(df['percentage'])))\n",
    "print(\"statistical\",df.describe())"
   ]
  },
  {
   "cell_type": "code",
   "execution_count": null,
   "id": "3100cc40-04ff-4c7e-89b0-c60a0839f751",
   "metadata": {},
   "outputs": [],
   "source": []
  }
 ],
 "metadata": {
  "kernelspec": {
   "display_name": "Python 3 (ipykernel)",
   "language": "python",
   "name": "python3"
  },
  "language_info": {
   "codemirror_mode": {
    "name": "ipython",
    "version": 3
   },
   "file_extension": ".py",
   "mimetype": "text/x-python",
   "name": "python",
   "nbconvert_exporter": "python",
   "pygments_lexer": "ipython3",
   "version": "3.10.12"
  }
 },
 "nbformat": 4,
 "nbformat_minor": 5
}
