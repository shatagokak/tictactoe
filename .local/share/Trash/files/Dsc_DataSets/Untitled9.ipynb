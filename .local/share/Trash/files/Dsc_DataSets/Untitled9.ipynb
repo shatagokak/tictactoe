{
 "cells": [
  {
   "cell_type": "code",
   "execution_count": 1,
   "id": "bed8bc06-51be-462a-adaf-cfabf1c5a12d",
   "metadata": {},
   "outputs": [
    {
     "name": "stdout",
     "output_type": "stream",
     "text": [
      "         Tag  Number\n",
      "0     search     110\n",
      "1  Quantitiy      45\n",
      "2   Mininmum      24\n"
     ]
    }
   ],
   "source": [
    "import pandas as pd\n",
    "data={\"Tag\":[\"search\",\"Quantitiy\",\"Mininmum\"],\"Number\":[110,45,24]}\n",
    "df=pd.DataFrame(data)             \n",
    "print(df)"
   ]
  },
  {
   "cell_type": "code",
   "execution_count": 2,
   "id": "a1b78c80-141a-4321-aa5d-323aeaf2a7a7",
   "metadata": {},
   "outputs": [
    {
     "name": "stdout",
     "output_type": "stream",
     "text": [
      "   fname    lname  age\n",
      "0    Tom  Reacher   25\n",
      "1  Krish    Peter   30\n",
      "2   Nick   Wilson   26\n",
      "3   Juli  Willams   22\n"
     ]
    }
   ],
   "source": [
    "import pandas as pd\n",
    "data={\"fname\":[\"Tom\",\"Krish\",\"Nick\",\"Juli\"],\n",
    "     \"lname\":[\"Reacher\",\"Peter\",\"Wilson\",\"Willams\"],\n",
    "      \"age\":[25,30,26,22]}\n",
    "df=pd.DataFrame(data)             \n",
    "print(df)"
   ]
  },
  {
   "cell_type": "code",
   "execution_count": 3,
   "id": "51355439-0eb3-4ab6-9729-3aeefc6747c5",
   "metadata": {},
   "outputs": [
    {
     "name": "stdout",
     "output_type": "stream",
     "text": [
      "  Category         Name  age\n",
      "0       DS  LInked_list   10\n",
      "1       DS        stack    9\n",
      "2       DS        Queue    7\n",
      "3     ALGO       Greedy    8\n",
      "4     ALGO           Dp    6\n",
      "5     ALGO    Backtrack    5\n"
     ]
    }
   ],
   "source": [
    "import pandas as pd\n",
    "data={\"Category\":[\"DS\",\"DS\",\"DS\",\"ALGO\",\"ALGO\",\"ALGO\"],\"Name\":[\"LInked_list\",\"stack\",\"Queue\",\"Greedy\",\"Dp\",\"Backtrack\"],\"age\":[10,9,7,8,6,5]}\n",
    "df=pd.DataFrame(data)             \n",
    "print(df)"
   ]
  },
  {
   "cell_type": "code",
   "execution_count": null,
   "id": "72c88031-02a2-4ab0-a58b-da83a4c80032",
   "metadata": {},
   "outputs": [],
   "source": []
  }
 ],
 "metadata": {
  "kernelspec": {
   "display_name": "Python 3 (ipykernel)",
   "language": "python",
   "name": "python3"
  },
  "language_info": {
   "codemirror_mode": {
    "name": "ipython",
    "version": 3
   },
   "file_extension": ".py",
   "mimetype": "text/x-python",
   "name": "python",
   "nbconvert_exporter": "python",
   "pygments_lexer": "ipython3",
   "version": "3.10.12"
  }
 },
 "nbformat": 4,
 "nbformat_minor": 5
}
