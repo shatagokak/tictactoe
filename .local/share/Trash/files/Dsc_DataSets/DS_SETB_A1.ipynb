{
 "cells": [
  {
   "cell_type": "code",
   "execution_count": 1,
   "id": "6766edbe-90e8-4e41-a59d-aab3c9213ffc",
   "metadata": {},
   "outputs": [
    {
     "name": "stdout",
     "output_type": "stream",
     "text": [
      "\n",
      " first 10 rows :\n",
      "\n",
      "   Index  Height(Inches)  Weight(Pounds)\n",
      "0      1        65.78331        112.9925\n",
      "1      2        71.51521        136.4873\n",
      "2      3        69.39874        153.0269\n",
      "3      4        68.21660        142.3354\n",
      "4      5        67.78781        144.2971\n",
      "5      6        68.69784        123.3024\n",
      "6      7        69.80204        141.4947\n",
      "7      8        70.01472        136.4623\n",
      "8      9        67.90265        112.3723\n",
      "9     10        66.78236        120.6672\n",
      "\n",
      " Last 10 rows :\n",
      "\n",
      "       Index  Height(Inches)  Weight(Pounds)\n",
      "24990  24991        69.97767        125.3672\n",
      "24991  24992        71.91656        128.2840\n",
      "24992  24993        70.96218        146.1936\n",
      "24993  24994        66.19462        118.7974\n",
      "24994  24995        67.21126        127.6603\n",
      "24995  24996        69.50215        118.0312\n",
      "24996  24997        64.54826        120.1932\n",
      "24997  24998        64.69855        118.2655\n",
      "24998  24999        67.52918        132.2682\n",
      "24999  25000        68.87761        124.8742\n",
      "\n",
      " Random 20 rows :\n",
      "\n",
      "       Index  Height(Inches)  Weight(Pounds)\n",
      "1634    1635        71.86035        127.4872\n",
      "18309  18310        65.29473        106.2219\n",
      "6901    6902        70.30269        133.0611\n",
      "13675  13676        71.49172        156.6047\n",
      "19118  19119        66.46511        119.6751\n",
      "3538    3539        67.36526        141.0621\n",
      "17535  17536        65.34809        115.9247\n",
      "19056  19057        64.80255        110.9322\n",
      "17644  17645        67.42030        122.0798\n",
      "17198  17199        64.74150        122.2140\n",
      "6241    6242        66.45404        109.0055\n",
      "21963  21964        63.45696        101.8629\n",
      "6521    6522        71.38060        133.3801\n",
      "22641  22642        66.56530        130.9523\n",
      "12403  12404        68.46486        102.6906\n",
      "6092    6093        66.13148        118.4705\n",
      "5807    5808        66.23165        123.4666\n",
      "13604  13605        68.81140        127.7579\n",
      "2958    2959        68.90095        119.2410\n",
      "1425    1426        70.61931        135.3299\n"
     ]
    }
   ],
   "source": [
    "import pandas as pd\n",
    "data=pd.read_csv('HeightWeight.csv')\n",
    "df=pd.DataFrame(data)\n",
    "print('\\n first 10 rows :\\n')\n",
    "print(df.head(10))\n",
    "print('\\n Last 10 rows :\\n')\n",
    "print(df.tail(10))\n",
    "print('\\n Random 20 rows :\\n')\n",
    "print(df.sample(20))"
   ]
  },
  {
   "cell_type": "code",
   "execution_count": 2,
   "id": "b1725a13-6388-434f-9b05-b233345edaf3",
   "metadata": {},
   "outputs": [
    {
     "name": "stdout",
     "output_type": "stream",
     "text": [
      "\n",
      " Shape of dataframe: (25000, 3)\n",
      "\n",
      " Size of dataframe: 75000\n",
      "\n",
      " Datatypes from dataframe: Index               int64\n",
      "Height(Inches)    float64\n",
      "Weight(Pounds)    float64\n",
      "dtype: object\n"
     ]
    }
   ],
   "source": [
    "import pandas as pd\n",
    "data=pd.read_csv('HeightWeight.csv')\n",
    "df=pd.DataFrame(data)\n",
    "print(\"\\n Shape of dataframe:\",df.shape)\n",
    "print(\"\\n Size of dataframe:\",df.size)\n",
    "print(\"\\n Datatypes from dataframe:\",df.dtypes)"
   ]
  },
  {
   "cell_type": "code",
   "execution_count": 3,
   "id": "c91e068c-6916-4ae8-a6fd-cf7589eb2b3e",
   "metadata": {},
   "outputs": [
    {
     "name": "stdout",
     "output_type": "stream",
     "text": [
      "\n",
      " statistical details pf data: <bound method NDFrame.describe of        Index  Height(Inches)  Weight(Pounds)\n",
      "0          1        65.78331        112.9925\n",
      "1          2        71.51521        136.4873\n",
      "2          3        69.39874        153.0269\n",
      "3          4        68.21660        142.3354\n",
      "4          5        67.78781        144.2971\n",
      "...      ...             ...             ...\n",
      "24995  24996        69.50215        118.0312\n",
      "24996  24997        64.54826        120.1932\n",
      "24997  24998        64.69855        118.2655\n",
      "24998  24999        67.52918        132.2682\n",
      "24999  25000        68.87761        124.8742\n",
      "\n",
      "[25000 rows x 3 columns]>\n"
     ]
    }
   ],
   "source": [
    "import pandas as pd\n",
    "data=pd.read_csv('HeightWeight.csv')\n",
    "df=pd.DataFrame(data)\n",
    "print(\"\\n statistical details pf data:\",df.describe)"
   ]
  },
  {
   "cell_type": "code",
   "execution_count": 4,
   "id": "eb384423-07c4-42bc-9648-65f71e82b4ae",
   "metadata": {},
   "outputs": [
    {
     "name": "stdout",
     "output_type": "stream",
     "text": [
      "\n",
      " Number of observation: 25000\n",
      "\n",
      " Missing Values:\n",
      "        Index  Height(Inches)  Weight(Pounds)\n",
      "0      False           False           False\n",
      "1      False           False           False\n",
      "2      False           False           False\n",
      "3      False           False           False\n",
      "4      False           False           False\n",
      "...      ...             ...             ...\n",
      "24995  False           False           False\n",
      "24996  False           False           False\n",
      "24997  False           False           False\n",
      "24998  False           False           False\n",
      "24999  False           False           False\n",
      "\n",
      "[25000 rows x 3 columns]\n",
      "\n",
      " nan value:        Index  Height(Inches)  Weight(Pounds)\n",
      "0      False           False           False\n",
      "1      False           False           False\n",
      "2      False           False           False\n",
      "3      False           False           False\n",
      "4      False           False           False\n",
      "...      ...             ...             ...\n",
      "24995  False           False           False\n",
      "24996  False           False           False\n",
      "24997  False           False           False\n",
      "24998  False           False           False\n",
      "24999  False           False           False\n",
      "\n",
      "[25000 rows x 3 columns]\n"
     ]
    }
   ],
   "source": [
    "import pandas as pd\n",
    "import numpy as np\n",
    "data=pd.read_csv('HeightWeight.csv')\n",
    "df=pd.DataFrame(data)\n",
    "print(\"\\n Number of observation:\",df['Index'].size)\n",
    "missing=df.isnull()\n",
    "print(\"\\n Missing Values:\\n\",missing)\n",
    "nan_values=np.isnan(df)\n",
    "print(\"\\n nan value:\",nan_values)"
   ]
  },
  {
   "cell_type": "code",
   "execution_count": null,
   "id": "53ff86b0-7811-40b5-b4d2-fda155e6aba0",
   "metadata": {},
   "outputs": [],
   "source": []
  }
 ],
 "metadata": {
  "kernelspec": {
   "display_name": "Python 3 (ipykernel)",
   "language": "python",
   "name": "python3"
  },
  "language_info": {
   "codemirror_mode": {
    "name": "ipython",
    "version": 3
   },
   "file_extension": ".py",
   "mimetype": "text/x-python",
   "name": "python",
   "nbconvert_exporter": "python",
   "pygments_lexer": "ipython3",
   "version": "3.10.12"
  }
 },
 "nbformat": 4,
 "nbformat_minor": 5
}
