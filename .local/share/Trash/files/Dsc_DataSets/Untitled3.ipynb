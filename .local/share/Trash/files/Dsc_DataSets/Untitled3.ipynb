{
 "cells": [
  {
   "cell_type": "code",
   "execution_count": 10,
   "id": "94cd0260-5eb0-4613-aaa3-52ad1b279689",
   "metadata": {},
   "outputs": [
    {
     "name": "stdout",
     "output_type": "stream",
     "text": [
      "\n",
      " first 10 rows :\n",
      "\n",
      "   Index  Height(Inches)  Weight(Pounds)\n",
      "0      1        65.78331        112.9925\n",
      "1      2        71.51521        136.4873\n",
      "2      3        69.39874        153.0269\n",
      "3      4        68.21660        142.3354\n",
      "4      5        67.78781        144.2971\n",
      "5      6        68.69784        123.3024\n",
      "6      7        69.80204        141.4947\n",
      "7      8        70.01472        136.4623\n",
      "8      9        67.90265        112.3723\n",
      "9     10        66.78236        120.6672\n",
      "\n",
      " Last 10 rows :\n",
      "\n",
      "       Index  Height(Inches)  Weight(Pounds)\n",
      "24990  24991        69.97767        125.3672\n",
      "24991  24992        71.91656        128.2840\n",
      "24992  24993        70.96218        146.1936\n",
      "24993  24994        66.19462        118.7974\n",
      "24994  24995        67.21126        127.6603\n",
      "24995  24996        69.50215        118.0312\n",
      "24996  24997        64.54826        120.1932\n",
      "24997  24998        64.69855        118.2655\n",
      "24998  24999        67.52918        132.2682\n",
      "24999  25000        68.87761        124.8742\n",
      "\n",
      " Random 20 rows :\n",
      "\n",
      "       Index  Height(Inches)  Weight(Pounds)\n",
      "4516    4517        71.25743        136.5501\n",
      "13019  13020        65.28594        127.6072\n",
      "498      499        67.13183        112.6659\n",
      "19652  19653        69.95254        126.0075\n",
      "13754  13755        68.08386        129.7618\n",
      "19865  19866        68.24369        131.5036\n",
      "4822    4823        64.99997        106.3608\n",
      "6740    6741        69.81064        124.3983\n",
      "22404  22405        67.26176        114.9494\n",
      "2993    2994        68.08730        127.3013\n",
      "19407  19408        65.98309        107.8979\n",
      "2006    2007        66.17148        113.3707\n",
      "7218    7219        66.53305        135.1808\n",
      "5166    5167        67.35650        124.7415\n",
      "21184  21185        66.94975        135.6230\n",
      "14001  14002        69.23979        134.1059\n",
      "20559  20560        70.45960        130.9488\n",
      "18135  18136        70.11142        129.0453\n",
      "724      725        72.46761        139.2411\n",
      "484      485        64.82535        117.6261\n"
     ]
    }
   ],
   "source": [
    "import pandas as pd\n",
    "data=pd.read_csv('HeightWeight.csv')\n",
    "df=pd.DataFrame(data)\n",
    "print('\\n first 10 rows :\\n')\n",
    "print(df.head(10))\n",
    "print('\\n Last 10 rows :\\n')\n",
    "print(df.tail(10))\n",
    "print('\\n Random 20 rows :\\n')\n",
    "print(df.sample(20))"
   ]
  },
  {
   "cell_type": "code",
   "execution_count": 4,
   "id": "3214ae84-e273-45cf-b3e0-942cfa0d4742",
   "metadata": {},
   "outputs": [
    {
     "name": "stdout",
     "output_type": "stream",
     "text": [
      "\n",
      " Shape of dataframe: (25000, 3)\n",
      "\n",
      " Size of dataframe: 75000\n",
      "\n",
      " Datatypes from dataframe: Index               int64\n",
      "Height(Inches)    float64\n",
      "Weight(Pounds)    float64\n",
      "dtype: object\n"
     ]
    }
   ],
   "source": [
    "import pandas as pd\n",
    "data=pd.read_csv('HeightWeight.csv')\n",
    "df=pd.DataFrame(data)\n",
    "print(\"\\n Shape of dataframe:\",df.shape)\n",
    "print(\"\\n Size of dataframe:\",df.size)\n",
    "print(\"\\n Datatypes from dataframe:\",df.dtypes)"
   ]
  },
  {
   "cell_type": "code",
   "execution_count": 5,
   "id": "f40666e5-6dc2-4297-8c6b-268e866188d6",
   "metadata": {},
   "outputs": [
    {
     "name": "stdout",
     "output_type": "stream",
     "text": [
      "\n",
      " statistical details pf data: <bound method NDFrame.describe of        Index  Height(Inches)  Weight(Pounds)\n",
      "0          1        65.78331        112.9925\n",
      "1          2        71.51521        136.4873\n",
      "2          3        69.39874        153.0269\n",
      "3          4        68.21660        142.3354\n",
      "4          5        67.78781        144.2971\n",
      "...      ...             ...             ...\n",
      "24995  24996        69.50215        118.0312\n",
      "24996  24997        64.54826        120.1932\n",
      "24997  24998        64.69855        118.2655\n",
      "24998  24999        67.52918        132.2682\n",
      "24999  25000        68.87761        124.8742\n",
      "\n",
      "[25000 rows x 3 columns]>\n"
     ]
    }
   ],
   "source": [
    "import pandas as pd\n",
    "data=pd.read_csv('HeightWeight.csv')\n",
    "df=pd.DataFrame(data)\n",
    "print(\"\\n statistical details pf data:\",df.describe)\n"
   ]
  },
  {
   "cell_type": "code",
   "execution_count": 9,
   "id": "51ead0b2-b59f-44fe-91e0-aa7e058a3fac",
   "metadata": {},
   "outputs": [
    {
     "name": "stdout",
     "output_type": "stream",
     "text": [
      "\n",
      " Number of observation: 25000\n",
      "\n",
      " Missing Values:\n",
      "        Index  Height(Inches)  Weight(Pounds)\n",
      "0      False           False           False\n",
      "1      False           False           False\n",
      "2      False           False           False\n",
      "3      False           False           False\n",
      "4      False           False           False\n",
      "...      ...             ...             ...\n",
      "24995  False           False           False\n",
      "24996  False           False           False\n",
      "24997  False           False           False\n",
      "24998  False           False           False\n",
      "24999  False           False           False\n",
      "\n",
      "[25000 rows x 3 columns]\n",
      "\n",
      " nan value:        Index  Height(Inches)  Weight(Pounds)\n",
      "0      False           False           False\n",
      "1      False           False           False\n",
      "2      False           False           False\n",
      "3      False           False           False\n",
      "4      False           False           False\n",
      "...      ...             ...             ...\n",
      "24995  False           False           False\n",
      "24996  False           False           False\n",
      "24997  False           False           False\n",
      "24998  False           False           False\n",
      "24999  False           False           False\n",
      "\n",
      "[25000 rows x 3 columns]\n"
     ]
    }
   ],
   "source": [
    "import pandas as pd\n",
    "import numpy as np\n",
    "data=pd.read_csv('HeightWeight.csv')\n",
    "df=pd.DataFrame(data)\n",
    "print(\"\\n Number of observation:\",df['Index'].size)\n",
    "missing=df.isnull()\n",
    "print(\"\\n Missing Values:\\n\",missing)\n",
    "nan_values=np.isnan(df)\n",
    "print(\"\\n nan value:\",nan_values)"
   ]
  },
  {
   "cell_type": "code",
   "execution_count": 11,
   "id": "14dc0788-b5ff-4acf-86e8-a685188d759c",
   "metadata": {},
   "outputs": [
    {
     "name": "stdout",
     "output_type": "stream",
     "text": [
      "*****after adding column dataframe is:*****\n",
      "        Index  Height(Inches)  Weight(Pounds)       BMI\n",
      "0          1        65.78331        112.9925  0.026111\n",
      "1          2        71.51521        136.4873  0.026687\n",
      "2          3        69.39874        153.0269  0.031773\n",
      "3          4        68.21660        142.3354  0.030587\n",
      "4          5        67.78781        144.2971  0.031402\n",
      "...      ...             ...             ...       ...\n",
      "24995  24996        69.50215        118.0312  0.024434\n",
      "24996  24997        64.54826        120.1932  0.028848\n",
      "24997  24998        64.69855        118.2655  0.028253\n",
      "24998  24999        67.52918        132.2682  0.029005\n",
      "24999  25000        68.87761        124.8742  0.026322\n",
      "\n",
      "[25000 rows x 4 columns]\n"
     ]
    }
   ],
   "source": [
    "import pandas as pd\n",
    "import numpy as np\n",
    "data=pd.read_csv('HeightWeight.csv')\n",
    "df=pd.DataFrame(data)\n",
    "df['BMI']=(df['Weight(Pounds)']/df['Height(Inches)']**2)\n",
    "print(\"*****after adding column dataframe is:*****\\n\",df)\n"
   ]
  },
  {
   "cell_type": "code",
   "execution_count": 13,
   "id": "7c2e0957-0fc2-4222-b651-f45597c1dfa8",
   "metadata": {},
   "outputs": [
    {
     "name": "stdout",
     "output_type": "stream",
     "text": [
      "\n",
      " Maximum of IBM= 0.03701443692089851\n",
      "\n",
      " Minimum of IBM= 0.018591137267932455\n"
     ]
    }
   ],
   "source": [
    "import pandas as pd\n",
    "import numpy as np\n",
    "data=pd.read_csv('HeightWeight.csv')\n",
    "df=pd.DataFrame(data)\n",
    "df['BMI']=(df['Weight(Pounds)']/df['Height(Inches)']**2)\n",
    "print(\"\\n Maximum of IBM=\",max(df['BMI']))\n",
    "print(\"\\n Minimum of IBM=\",min(df['BMI']))"
   ]
  },
  {
   "cell_type": "code",
   "execution_count": 18,
   "id": "7680fe08-bd21-4847-8740-1b3467ba5a6e",
   "metadata": {},
   "outputs": [
    {
     "data": {
      "image/png": "[encoded data removed]",
      "text/plain": [
       "<Figure size 640x480 with 1 Axes>"
      ]
     },
     "metadata": {},
     "output_type": "display_data"
    }
   ],
   "source": [
    "import pandas as pd\n",
    "import matplotlib.pyplot as plt\n",
    "data=pd.read_csv('HeightWeight.csv')\n",
    "df=pd.DataFrame(data)\n",
    "df['BMI']=(df['Weight(Pounds)']/df['Height(Inches)']**2)\n",
    "plt.scatter(x=df['Height(Inches)'],y=df['Weight(Pounds)'],c='blue')\n",
    "plt.title(\"Scatter Plot\")\n",
    "plt.xlabel(\"Height(Inches)\")\n",
    "plt.ylabel(\"Weight(Pounds)\")\n",
    "plt.show()            "
   ]
  },
  {
   "cell_type": "code",
   "execution_count": 20,
   "id": "c82b54a9-f917-487a-aed3-c99f7320aca1",
   "metadata": {},
   "outputs": [
    {
     "name": "stdout",
     "output_type": "stream",
     "text": [
      "[[30 75 70]\n",
      " [80 90 20]\n",
      " [50 95 60]]\n",
      "Mean: 63.333333333333336\n"
     ]
    },
    {
     "ename": "AttributeError",
     "evalue": "module 'numpy' has no attribute 'meduan'",
     "output_type": "error",
     "traceback": [
      "\u001b[0;31m---------------------------------------------------------------------------\u001b[0m",
      "\u001b[0;31mAttributeError\u001b[0m                            Traceback (most recent call last)",
      "Cell \u001b[0;32mIn[20], line 6\u001b[0m\n\u001b[1;32m      4\u001b[0m \u001b[38;5;28mprint\u001b[39m(arr)\n\u001b[1;32m      5\u001b[0m \u001b[38;5;28mprint\u001b[39m(\u001b[38;5;124m\"\u001b[39m\u001b[38;5;124mMean:\u001b[39m\u001b[38;5;124m\"\u001b[39m,np\u001b[38;5;241m.\u001b[39mmean(arr))\n\u001b[0;32m----> 6\u001b[0m \u001b[38;5;28mprint\u001b[39m(\u001b[38;5;124m\"\u001b[39m\u001b[38;5;124mMedian:\u001b[39m\u001b[38;5;124m\"\u001b[39m,\u001b[43mnp\u001b[49m\u001b[38;5;241;43m.\u001b[39;49m\u001b[43mmeduan\u001b[49m(arr))\n",
      "File \u001b[0;32m~/.local/lib/python3.10/site-packages/numpy/__init__.py:410\u001b[0m, in \u001b[0;36m__getattr__\u001b[0;34m(attr)\u001b[0m\n\u001b[1;32m    407\u001b[0m     \u001b[38;5;28;01mimport\u001b[39;00m \u001b[38;5;21;01mnumpy\u001b[39;00m\u001b[38;5;21;01m.\u001b[39;00m\u001b[38;5;21;01mchar\u001b[39;00m \u001b[38;5;28;01mas\u001b[39;00m \u001b[38;5;21;01mchar\u001b[39;00m\n\u001b[1;32m    408\u001b[0m     \u001b[38;5;28;01mreturn\u001b[39;00m char\u001b[38;5;241m.\u001b[39mchararray\n\u001b[0;32m--> 410\u001b[0m \u001b[38;5;28;01mraise\u001b[39;00m \u001b[38;5;167;01mAttributeError\u001b[39;00m(\u001b[38;5;124m\"\u001b[39m\u001b[38;5;124mmodule \u001b[39m\u001b[38;5;132;01m{!r}\u001b[39;00m\u001b[38;5;124m has no attribute \u001b[39m\u001b[38;5;124m\"\u001b[39m\n\u001b[1;32m    411\u001b[0m                      \u001b[38;5;124m\"\u001b[39m\u001b[38;5;132;01m{!r}\u001b[39;00m\u001b[38;5;124m\"\u001b[39m\u001b[38;5;241m.\u001b[39mformat(\u001b[38;5;18m__name__\u001b[39m, attr))\n",
      "\u001b[0;31mAttributeError\u001b[0m: module 'numpy' has no attribute 'meduan'"
     ]
    }
   ],
   "source": [
    "import pandas as ps\n",
    "import numpy as np\n",
    "arr=np.array([[30,75,70],[80,90,20],[50,95,60]])\n",
    "print(arr)\n",
    "print(\"Mean:\",np.mean(arr))\n",
    "print(\"Median:\",np.medan(arr))\n",
    "\n"
   ]
  },
  {
   "cell_type": "code",
   "execution_count": null,
   "id": "6af3a336-ceed-4ff4-b6b7-43ca075ba2f5",
   "metadata": {},
   "outputs": [],
   "source": []
  }
 ],
 "metadata": {
  "kernelspec": {
   "display_name": "Python 3 (ipykernel)",
   "language": "python",
   "name": "python3"
  },
  "language_info": {
   "codemirror_mode": {
    "name": "ipython",
    "version": 3
   },
   "file_extension": ".py",
   "mimetype": "text/x-python",
   "name": "python",
   "nbconvert_exporter": "python",
   "pygments_lexer": "ipython3",
   "version": "3.10.12"
  }
 },
 "nbformat": 4,
 "nbformat_minor": 5
}
