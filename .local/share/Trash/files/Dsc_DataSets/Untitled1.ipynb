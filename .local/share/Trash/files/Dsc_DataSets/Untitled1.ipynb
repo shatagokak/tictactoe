{
 "cells": [
  {
   "cell_type": "code",
   "execution_count": 6,
   "id": "b1500a0c-9ee5-45c4-987b-577c0d17715f",
   "metadata": {},
   "outputs": [
    {
     "name": "stdout",
     "output_type": "stream",
     "text": [
      "\n",
      " first 10 row:\n",
      "\n",
      "   Index  Height(Inches)  Weight(Pounds)\n",
      "0      1        65.78331        112.9925\n",
      "1      2        71.51521        136.4873\n",
      "2      3        69.39874        153.0269\n",
      "3      4        68.21660        142.3354\n",
      "4      5        67.78781        144.2971\n",
      "5      6        68.69784        123.3024\n",
      "6      7        69.80204        141.4947\n",
      "7      8        70.01472        136.4623\n",
      "8      9        67.90265        112.3723\n",
      "9     10        66.78236        120.6672\n",
      "\n",
      " last 10 row:\n",
      "\n",
      "       Index  Height(Inches)  Weight(Pounds)\n",
      "24990  24991        69.97767        125.3672\n",
      "24991  24992        71.91656        128.2840\n",
      "24992  24993        70.96218        146.1936\n",
      "24993  24994        66.19462        118.7974\n",
      "24994  24995        67.21126        127.6603\n",
      "24995  24996        69.50215        118.0312\n",
      "24996  24997        64.54826        120.1932\n",
      "24997  24998        64.69855        118.2655\n",
      "24998  24999        67.52918        132.2682\n",
      "24999  25000        68.87761        124.8742\n",
      "\n",
      " random 20 row:\n",
      "\n",
      "       Index  Height(Inches)  Weight(Pounds)\n",
      "20022  20023        66.00505       126.97950\n",
      "5621    5622        68.08517       125.33630\n",
      "19440  19441        67.63941       122.40850\n",
      "22396  22397        67.16343       118.36160\n",
      "7441    7442        65.82668       108.80670\n",
      "10642  10643        68.64071       134.53430\n",
      "544      545        66.91609       125.64670\n",
      "21888  21889        71.44975       133.37580\n",
      "24041  24042        69.06754       133.53370\n",
      "16066  16067        68.69408       121.50600\n",
      "12915  12916        69.57154       123.70940\n",
      "2517    2518        67.14185       123.66000\n",
      "17296  17297        65.61432       118.14570\n",
      "629      630        64.56145        98.89720\n",
      "9245    9246        65.71640        94.98665\n",
      "24093  24094        70.84343       130.01280\n",
      "13878  13879        70.78829       116.03270\n",
      "4323    4324        67.75816       121.01230\n",
      "260      261        70.16973       121.99570\n",
      "2793    2794        67.40223       129.51350\n"
     ]
    }
   ],
   "source": [
    "import pandas as pd\n",
    "data=pd.read_csv('HeightWeight.csv');\n",
    "df = pd.DataFrame(data)\n",
    "print(\"\\n first 10 row:\\n\")\n",
    "print(df.head(10))\n",
    "print(\"\\n last 10 row:\\n\")\n",
    "print(df.tail(10))\n",
    "print(\"\\n random 20 row:\\n\")\n",
    "print(df.sample(20))\n"
   ]
  },
  {
   "cell_type": "code",
   "execution_count": 10,
   "id": "8ffa7a7b-cb7c-4df2-a10c-7230dc6397f6",
   "metadata": {},
   "outputs": [
    {
     "name": "stdout",
     "output_type": "stream",
     "text": [
      "shape of data: (25000, 3)\n",
      "size of data: 75000\n",
      "data type of data: Index               int64\n",
      "Height(Inches)    float64\n",
      "Weight(Pounds)    float64\n",
      "dtype: object\n",
      "descibe:               Index  Height(Inches)  Weight(Pounds)\n",
      "count  25000.000000    25000.000000    25000.000000\n",
      "mean   12500.500000       67.993114      127.079421\n",
      "std     7217.022701        1.901679       11.660898\n",
      "min        1.000000       60.278360       78.014760\n",
      "25%     6250.750000       66.704397      119.308675\n",
      "50%    12500.500000       67.995700      127.157750\n",
      "75%    18750.250000       69.272958      134.892850\n",
      "max    25000.000000       75.152800      170.924000\n"
     ]
    }
   ],
   "source": [
    "import pandas as pd\n",
    "data=pd.read_csv('HeightWeight.csv');\n",
    "df = pd.DataFrame(data)\n",
    "print(\"shape of data:\",df.shape)\n",
    "print(\"size of data:\",df.size)\n",
    "print(\"data type of data:\",df.dtypes)\n",
    "print('descibe:',df.describe())\n"
   ]
  },
  {
   "cell_type": "code",
   "execution_count": null,
   "id": "dd33a70c-535f-415c-bccc-8b04a49c72e4",
   "metadata": {},
   "outputs": [],
   "source": []
  }
 ],
 "metadata": {
  "kernelspec": {
   "display_name": "Python 3 (ipykernel)",
   "language": "python",
   "name": "python3"
  },
  "language_info": {
   "codemirror_mode": {
    "name": "ipython",
    "version": 3
   },
   "file_extension": ".py",
   "mimetype": "text/x-python",
   "name": "python",
   "nbconvert_exporter": "python",
   "pygments_lexer": "ipython3",
   "version": "3.10.12"
  }
 },
 "nbformat": 4,
 "nbformat_minor": 5
}
