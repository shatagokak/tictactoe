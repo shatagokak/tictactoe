{
 "cells": [
  {
   "cell_type": "code",
   "execution_count": 5,
   "id": "83919d6b-d706-448a-8e93-e3299edfd2c6",
   "metadata": {},
   "outputs": [
    {
     "name": "stdout",
     "output_type": "stream",
     "text": [
      "\n",
      " Sample from dataset:\n",
      "     Id  SepalLengthCm  SepalWidthCm  PetalLengthCm  PetalWidthCm      Species\n",
      "34  35            4.9           3.1            1.5           0.1  Iris-setosa\n",
      "\n",
      " Maximum of Sepal Length: 7.9\n",
      "\n",
      " Minimum of Sepal Length: 4.3\n",
      "\n",
      " Maximum of Sepal Widht: 4.4\n",
      "\n",
      " Minimum of Sepal Widht: 2.0\n",
      "\n",
      " Maximum of Petal Length: 6.9\n",
      "\n",
      " Minimum of Petal length: 1.0\n",
      "\n",
      " Maximum of Petal widht: 2.5\n",
      "\n",
      " Minimum of Petal widht: 0.1\n"
     ]
    }
   ],
   "source": [
    "import pandas as pd\n",
    "data=pd.read_csv(\"Iris.csv\")\n",
    "df=pd.DataFrame(data)\n",
    "sample=df.sample()\n",
    "print(\"\\n Sample from dataset:\\n\",sample)\n",
    "print(\"\\n Maximum of Sepal Length:\",max(df['SepalLengthCm']))\n",
    "print(\"\\n Minimum of Sepal Length:\",min(df['SepalLengthCm']))\n",
    "print(\"\\n Maximum of Sepal Widht:\",max(df['SepalWidthCm']))\n",
    "print(\"\\n Minimum of Sepal Widht:\",min(df['SepalWidthCm'])) \n",
    "\n",
    "print(\"\\n Maximum of Petal Length:\",max(df['PetalLengthCm']))\n",
    "print(\"\\n Minimum of Petal length:\",min(df['PetalLengthCm'])) \n",
    "print(\"\\n Maximum of Petal widht:\",max(df['PetalWidthCm']))\n",
    "print(\"\\n Minimum of Petal widht:\",min(df['PetalWidthCm'])) "
   ]
  },
  {
   "cell_type": "code",
   "execution_count": 10,
   "id": "da6f5fbc-90c7-4a28-9b3f-00f424694032",
   "metadata": {},
   "outputs": [
    {
     "name": "stdout",
     "output_type": "stream",
     "text": [
      "\n",
      " DataFrame:\n",
      "       Id  SepalLengthCm  SepalWidthCm  PetalLengthCm  PetalWidthCm  \\\n",
      "0      1            5.1           3.5            1.4           0.2   \n",
      "1      2            4.9           3.0            1.4           0.2   \n",
      "2      3            4.7           3.2            1.3           0.2   \n",
      "3      4            4.6           3.1            1.5           0.2   \n",
      "4      5            5.0           3.6            1.4           0.2   \n",
      "..   ...            ...           ...            ...           ...   \n",
      "145  146            6.7           3.0            5.2           2.3   \n",
      "146  147            6.3           2.5            5.0           1.9   \n",
      "147  148            6.5           3.0            5.2           2.0   \n",
      "148  149            6.2           3.4            5.4           2.3   \n",
      "149  150            5.9           3.0            5.1           1.8   \n",
      "\n",
      "            Species  \n",
      "0       Iris-setosa  \n",
      "1       Iris-setosa  \n",
      "2       Iris-setosa  \n",
      "3       Iris-setosa  \n",
      "4       Iris-setosa  \n",
      "..              ...  \n",
      "145  Iris-virginica  \n",
      "146  Iris-virginica  \n",
      "147  Iris-virginica  \n",
      "148  Iris-virginica  \n",
      "149  Iris-virginica  \n",
      "\n",
      "[150 rows x 6 columns]\n",
      "\n",
      " no.of records for each distinct value of species attributes:\n",
      " Species\n",
      "Iris-setosa        50\n",
      "Iris-versicolor    50\n",
      "Iris-virginica     50\n",
      "Name: count, dtype: int64\n"
     ]
    }
   ],
   "source": [
    "import pandas as pd\n",
    "data=pd.read_csv(\"Iris.csv\")\n",
    "df=pd.DataFrame(data)\n",
    "print(\"\\n DataFrame:\\n\",df)\n",
    "cnt=df['Species'].value_counts()\n",
    "print(\"\\n no.of records for each distinct value of species attributes:\\n\",cnt)"
   ]
  },
  {
   "cell_type": "code",
   "execution_count": 18,
   "id": "ea08d586-7cfa-4668-9226-f44e6755e6d8",
   "metadata": {},
   "outputs": [
    {
     "name": "stdout",
     "output_type": "stream",
     "text": [
      "\n",
      " DataFrame:\n",
      "       Id  SepalLengthCm  SepalWidthCm  PetalLengthCm  PetalWidthCm  \\\n",
      "0      1            5.1           3.5            1.4           0.2   \n",
      "1      2            4.9           3.0            1.4           0.2   \n",
      "2      3            4.7           3.2            1.3           0.2   \n",
      "3      4            4.6           3.1            1.5           0.2   \n",
      "4      5            5.0           3.6            1.4           0.2   \n",
      "..   ...            ...           ...            ...           ...   \n",
      "145  146            6.7           3.0            5.2           2.3   \n",
      "146  147            6.3           2.5            5.0           1.9   \n",
      "147  148            6.5           3.0            5.2           2.0   \n",
      "148  149            6.2           3.4            5.4           2.3   \n",
      "149  150            5.9           3.0            5.1           1.8   \n",
      "\n",
      "            Species  \n",
      "0       Iris-setosa  \n",
      "1       Iris-setosa  \n",
      "2       Iris-setosa  \n",
      "3       Iris-setosa  \n",
      "4       Iris-setosa  \n",
      "..              ...  \n",
      "145  Iris-virginica  \n",
      "146  Iris-virginica  \n",
      "147  Iris-virginica  \n",
      "148  Iris-virginica  \n",
      "149  Iris-virginica  \n",
      "\n",
      "[150 rows x 6 columns]\n",
      "Mean of Sepal Length: 5.843333333333334\n",
      "Median of Sepal Length: 5.8\n",
      "Mean of Sepal Width: 3.054\n",
      "Median of Sepal Width: 3.0\n",
      "Mean of Petal Length: 3.7586666666666666\n",
      "Median of Petal Length: 4.35\n",
      "Mean of Petal Width: 1.1986666666666668\n",
      "Median of Petal Width: 1.3\n"
     ]
    }
   ],
   "source": [
    "import pandas as pd\n",
    "import scipy.stats as sc\n",
    "import statistics as st\n",
    "data=pd.read_csv(\"Iris.csv\")\n",
    "df=pd.DataFrame(data)\n",
    "print(\"\\n DataFrame:\\n\",df)\n",
    "print(\"Mean of Sepal Length:\",st.mean(df[\"SepalLengthCm\"]))\n",
    "print(\"Median of Sepal Length:\",st.median(df[\"SepalLengthCm\"]))\n",
    "print(\"Mean of Sepal Width:\",st.mean(df[\"SepalWidthCm\"]))\n",
    "print(\"Median of Sepal Width:\",st.median(df[\"SepalWidthCm\"]))\n",
    "\n",
    "print(\"Mean of Petal Length:\",st.mean(df[\"PetalLengthCm\"]))\n",
    "print(\"Median of Petal Length:\",st.median(df[\"PetalLengthCm\"]))\n",
    "print(\"Mean of Petal Width:\",st.mean(df[\"PetalWidthCm\"]))\n",
    "print(\"Median of Petal Width:\",st.median(df[\"PetalWidthCm\"]))"
   ]
  },
  {
   "cell_type": "code",
   "execution_count": null,
   "id": "c9d7d43c-1b09-4b68-9060-e0a92d067dd0",
   "metadata": {},
   "outputs": [],
   "source": []
  },
  {
   "cell_type": "code",
   "execution_count": 26,
   "id": "cb72e68d-1572-4724-aeba-f2a516952c42",
   "metadata": {},
   "outputs": [
    {
     "name": "stdout",
     "output_type": "stream",
     "text": [
      "{'Maths': [22, 25, 26, 19, 21, 15, 17, 19, 28, 25], 'Stats': [21, 22, 25, 19, 17, 15, 21, 20, 22, 25], 'Java': [15, 18, 19, 20, 22, 25, 26, 24, 21, 27], 'html': [19, 20, 21, 22, 23, 24, 25, 26, 27, 28], 'php': [19, 23, 18, 21, 23, 24, 25, 26, 27, 28]}\n",
      "arithmetic mean of maths 21.7\n",
      "geometric mean of maths 21.314250983458425\n",
      "harmonic mean of maths 20.920380805372837\n",
      "arithmetic mean of java 21.7\n",
      "geometric mean of java 21.380988005613155\n",
      "harmonic mean of java 21.048526610720266\n",
      "arithmetic mean of stats 20.7\n",
      "geometric mean of stats 20.471457992967633\n",
      "harmonic mean of stats 20.2318996043536\n",
      "arithmetic mean of html 23.5\n",
      "geometric mean of html 23.32276198455688\n",
      "harmonic mean of html 23.144774970243365\n",
      "arithmetic mean of php 23.4\n",
      "geometric mean of php 23.18113769523815\n",
      "harmonic mean of php 22.954615671773855\n"
     ]
    }
   ],
   "source": [
    "import pandas as pd\n",
    "import statistics as st\n",
    "data={'Maths':[22,25,26,19,21,15,17,19,28,25],'Stats':[21,22,25,19,17,15,21,20,22,25],'Java':[15,18,19,20,22,25,26,24,21,27],'html':[19,20,21,22,23,24,25,26,27,28],'php':[19,23,18,21,23,24,25,26,27,28]}\n",
    "df=pd.DataFrame(data)\n",
    "print(data)\n",
    "print(\"arithmetic mean of maths\",st.mean(df['Maths']))\n",
    "print(\"geometric mean of maths\",st.geometric_mean(df['Maths']))\n",
    "print(\"harmonic mean of maths\",st.harmonic_mean(df['Maths']))   \n",
    "print(\"arithmetic mean of java\",st.mean(df['Java']))\n",
    "print(\"geometric mean of java\",st.geometric_mean(df['Java']))\n",
    "print(\"harmonic mean of java\",st.harmonic_mean(df['Java']))                                         \n",
    "print(\"arithmetic mean of stats\",st.mean(df['Stats']))\n",
    "print(\"geometric mean of stats\",st.geometric_mean(df['Stats']))\n",
    "print(\"harmonic mean of stats\",st.harmonic_mean(df['Stats']))                                         \n",
    "print(\"arithmetic mean of html\",st.mean(df['html']))\n",
    "print(\"geometric mean of html\",st.geometric_mean(df['html']))\n",
    "print(\"harmonic mean of html\",st.harmonic_mean(df['html']))                                         \n",
    "print(\"arithmetic mean of php\",st.mean(df['php']))\n",
    "print(\"geometric mean of php\",st.geometric_mean(df['php']))\n",
    "print(\"harmonic mean of php\",st.harmonic_mean(df['php']))                                         \n",
    "\n"
   ]
  },
  {
   "cell_type": "code",
   "execution_count": null,
   "id": "9d203ae4-3c15-4922-861c-36a5951cf633",
   "metadata": {},
   "outputs": [],
   "source": []
  }
 ],
 "metadata": {
  "kernelspec": {
   "display_name": "Python 3 (ipykernel)",
   "language": "python",
   "name": "python3"
  },
  "language_info": {
   "codemirror_mode": {
    "name": "ipython",
    "version": 3
   },
   "file_extension": ".py",
   "mimetype": "text/x-python",
   "name": "python",
   "nbconvert_exporter": "python",
   "pygments_lexer": "ipython3",
   "version": "3.10.12"
  }
 },
 "nbformat": 4,
 "nbformat_minor": 5
}
