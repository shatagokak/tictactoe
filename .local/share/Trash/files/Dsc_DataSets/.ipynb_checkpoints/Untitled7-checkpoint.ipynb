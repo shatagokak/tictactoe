{
 "cells": [
  {
   "cell_type": "code",
   "execution_count": 2,
   "id": "ac6dcc97-35a8-4355-875b-49beea98e4d8",
   "metadata": {},
   "outputs": [
    {
     "name": "stdout",
     "output_type": "stream",
     "text": [
      "[[30 75 70]\n",
      " [80 90 20]\n",
      " [50 95 60]]\n",
      "Mean: 63.333333333333336\n",
      "Median: 70.0\n"
     ]
    }
   ],
   "source": [
    "import pandas as ps\n",
    "import numpy as np\n",
    "arr=np.array([[30,75,70],[80,90,20],[50,95,60]])\n",
    "print(arr)\n",
    "print(\"Mean:\",np.mean(arr))\n",
    "print(\"Median:\",np.median(arr))\n"
   ]
  },
  {
   "cell_type": "code",
   "execution_count": 3,
   "id": "ca3abec0-7a64-4b59-99b5-4608b7f9b0a9",
   "metadata": {},
   "outputs": [
    {
     "name": "stdout",
     "output_type": "stream",
     "text": [
      "Name      RamShammeenaseetageetarakeshmadhav\n",
      "Age                                      181\n",
      "Rating                                 25.17\n",
      "dtype: object\n"
     ]
    }
   ],
   "source": [
    "import pandas as pd\n",
    "import numpy as np\n",
    "d={'Name':pd.Series(['Ram','Sham','meena','seeta','geeta','rakesh','madhav']),'Age':pd.Series([25,26,25,23,30,29,23]),'Rating':pd.Series([4.23,3.2,3.98,2.56,3.20,4.6,3.4])}\n",
    "df=pd.DataFrame(d)\n",
    "print(df.sum())"
   ]
  },
  {
   "cell_type": "code",
   "execution_count": 4,
   "id": "b80c4420-1959-48b4-a456-2580ea060d82",
   "metadata": {},
   "outputs": [
    {
     "name": "stdout",
     "output_type": "stream",
     "text": [
      "Name      RamShammeenaseetageetarakeshmadhav\n",
      "Age                                      181\n",
      "Rating                                 25.17\n",
      "dtype: object\n",
      "statistical details:              Age    Rating\n",
      "count   7.000000  7.000000\n",
      "mean   25.857143  3.595714\n",
      "std     2.734262  0.705073\n",
      "min    23.000000  2.560000\n",
      "25%    24.000000  3.200000\n",
      "50%    25.000000  3.400000\n",
      "75%    27.500000  4.105000\n",
      "max    30.000000  4.600000\n"
     ]
    }
   ],
   "source": [
    "import pandas as pd\n",
    "import numpy as np\n",
    "d={'Name':pd.Series(['Ram','Sham','meena','seeta','geeta','rakesh','madhav']),'Age':pd.Series([25,26,25,23,30,29,23]),'Rating':pd.Series([4.23,3.2,3.98,2.56,3.20,4.6,3.4])}\n",
    "df=pd.DataFrame(d)\n",
    "print(df.sum()) \n",
    "print('statistical details:',df.describe())\n"
   ]
  },
  {
   "cell_type": "code",
   "execution_count": 7,
   "id": "65fb2a27-310a-455d-a4d4-ffa9e3a68634",
   "metadata": {},
   "outputs": [
    {
     "name": "stdout",
     "output_type": "stream",
     "text": [
      "   Virat  Rohit\n",
      "0      0     89\n",
      "1     23     87\n",
      "2     12     67\n",
      "\n",
      " arithemetic mean value\n",
      "score 1 11.67\n",
      "score 2 81.0\n"
     ]
    }
   ],
   "source": [
    "import pandas as pd\n",
    "import numpy as np\n",
    "import scipy.stats as s\n",
    "score={'Virat':[0,23,12],'Rohit':[89,87,67]}\n",
    "df=pd.DataFrame(score)\n",
    "print(df)\n",
    "print(\"\\n arithemetic mean value\")\n",
    "print(\"score 1\",s.tmean(df[\"Virat\"]).round(2))\n",
    "print(\"score 2\",s.tmean(df[\"Rohit\"]).round(2))"
   ]
  },
  {
   "cell_type": "code",
   "execution_count": 8,
   "id": "41c7031d-a6e0-4372-878e-2850c5487e8a",
   "metadata": {},
   "outputs": [
    {
     "name": "stdout",
     "output_type": "stream",
     "text": [
      "Standard Deviation of sample is :  16.263455967290593\n"
     ]
    }
   ],
   "source": [
    "import pandas as pd\n",
    "import numpy as np\n",
    "data=np.array([13,52,44,32,30,0,36,45])\n",
    "print (\"Standard Deviation of sample is : \",np.std(data))"
   ]
  },
  {
   "cell_type": "code",
   "execution_count": 9,
   "id": "a2a56839-9e3d-4ecf-83fa-0b8bc8428d95",
   "metadata": {
    "scrolled": true
   },
   "outputs": [
    {
     "name": "stdout",
     "output_type": "stream",
     "text": [
      "    virat  Rohit\n",
      "0      92     89\n",
      "1      97     87\n",
      "2      85     67\n",
      "3      74     55\n",
      "4      71     47\n",
      "5      55     72\n",
      "6      85     76\n",
      "7      63     79\n",
      "8      42     44\n",
      "9      32     92\n",
      "10     71     99\n",
      "11     55     47\n",
      "\n",
      " Arithmetic Mean Values\n",
      "score1 68.5\n",
      "score1 71.17\n"
     ]
    }
   ],
   "source": [
    "import pandas as pd\n",
    "import numpy as np\n",
    "import scipy.stats as s\n",
    "score={'virat':[92,97,85,74,71,55,85,63,42,32,71,55],'Rohit':[89,87,67,55,47,72,76,79,44,92,99,47]}\n",
    "df=pd.DataFrame(score)\n",
    "print(df)\n",
    "print(\"\\n Arithmetic Mean Values\")\n",
    "print(\"score1\",s.tmean(df[\"virat\"]).round(2))\n",
    "print(\"score1\",s.tmean(df[\"Rohit\"]).round(2))"
   ]
  },
  {
   "cell_type": "code",
   "execution_count": 10,
   "id": "2976f021-4b98-4d04-9c23-97654f0dae1d",
   "metadata": {},
   "outputs": [
    {
     "name": "stdout",
     "output_type": "stream",
     "text": [
      "6.75\n"
     ]
    }
   ],
   "source": [
    "import pandas as pd\n",
    "import numpy as np\n",
    "import scipy.stats as s\n",
    "data=np.array([24,29,20,22,24,26,27,30,20,31,26,38,44,47])\n",
    "q3,q1=np.percentile(data,[75,25])\n",
    "Iqr_value=q3-q1\n",
    "print(Iqr_value)"
   ]
  },
  {
   "cell_type": "code",
   "execution_count": 10,
   "id": "28f69223-f62d-4816-9a6e-1bbdcec8886a",
   "metadata": {},
   "outputs": [
    {
     "name": "stdout",
     "output_type": "stream",
     "text": [
      "6.75\n"
     ]
    }
   ],
   "source": [
    "import pandas as pd\n",
    "import numpy as np\n",
    "import scipy.stats as s\n"
   ]
  },
  {
   "cell_type": "code",
   "execution_count": 11,
   "id": "9c0860d5-642b-46db-970e-eb1fcb05198f",
   "metadata": {},
   "outputs": [
    {
     "name": "stdout",
     "output_type": "stream",
     "text": [
      "\n",
      " DataFrame:\n",
      "       0\n",
      "0    32\n",
      "1    36\n",
      "2    46\n",
      "3    47\n",
      "4    56\n",
      "5    69\n",
      "6    75\n",
      "7    79\n",
      "8    79\n",
      "9    88\n",
      "10   89\n",
      "11   91\n",
      "12   92\n",
      "13   93\n",
      "14   96\n",
      "15   97\n",
      "16  101\n",
      "17  105\n",
      "18  112\n",
      "19  116\n",
      "\n",
      "Mean of DataFrame: 79.95\n",
      "\n",
      " Range of dataframe: 84\n",
      "\n",
      " Inter Quartile Range(IQR) of dataframe: 34.0\n"
     ]
    }
   ],
   "source": [
    "import pandas as pd\n",
    "import numpy as np\n",
    "import scipy.stats as s\n",
    "d=[32,36,46,47,56,69,75,79,79,88,89,91,92,93,96,97,101,105,112,116]\n",
    "data=pd.DataFrame(d)\n",
    "print(\"\\n DataFrame:\\n\",data)\n",
    "print(\"\\nMean of DataFrame:\",s.tmean(data))\n",
    "data_range=np.max(data)-np.min(data)\n",
    "print(\"\\n Range of dataframe:\",data_range)\n",
    "Q1=np.median(data[:10])\n",
    "Q3=np.median(data[10:])\n",
    "IQR=Q3-Q1\n",
    "print(\"\\n Inter Quartile Range(IQR) of dataframe:\",IQR)"
   ]
  },
  {
   "cell_type": "code",
   "execution_count": 17,
   "id": "44f7a376-e2ce-485d-a2ff-b3dca88e77b6",
   "metadata": {},
   "outputs": [
    {
     "name": "stdout",
     "output_type": "stream",
     "text": [
      "\n",
      " Sum of Manhattan distance between all pairs is= 18\n"
     ]
    }
   ],
   "source": [
    "x=[2,5,7]\n",
    "y=[4,6,8]\n",
    "n=len(x)\n",
    "def distance_sum(x,y,n):\n",
    " sum=0\n",
    " for i in range(n):\n",
    "  for j in range(i+1,n):\n",
    "   sum+=(abs(x[i]-x[j])+\n",
    "         abs(y[i]-y[j]))\n",
    " return sum\n",
    "print(\"\\n Sum of Manhattan distance between all pairs is=\",distance_sum(x,y,n))"
   ]
  },
  {
   "cell_type": "code",
   "execution_count": 18,
   "id": "1b8f50f2-8f91-4d9b-a421-9c181cd1cbcc",
   "metadata": {},
   "outputs": [
    {
     "name": "stdout",
     "output_type": "stream",
     "text": [
      "nums: [0.5 0.7 1.  1.2 1.3 2.1]\n",
      "bins: [0 1 2 3]\n",
      "Result: (array([2, 3, 1]), array([0, 1, 2, 3]))\n"
     ]
    },
    {
     "data": {
      "image/png": "[encoded data removed]",
      "text/plain": [
       "<Figure size 640x480 with 1 Axes>"
      ]
     },
     "metadata": {},
     "output_type": "display_data"
    }
   ],
   "source": [
    "import numpy as np\n",
    "import matplotlib.pyplot as plt\n",
    "nums=np.array([0.5,0.7,1.0,1.2,1.3,2.1])\n",
    "bins=np.array([0,1,2,3])\n",
    "print(\"nums:\",nums)\n",
    "print(\"bins:\",bins)\n",
    "print(\"Result:\",np.histogram(nums,bins))\n",
    "plt.hist(nums,bins=bins)\n",
    "plt.show()"
   ]
  },
  {
   "cell_type": "code",
   "execution_count": null,
   "id": "65dceef7-b7dc-4d61-a35f-a887ac6c2b95",
   "metadata": {},
   "outputs": [],
   "source": [
    "import pandas as pd\n",
    "import scipy.stats as s\n",
    "data={'name':['shadab','aman','gohar'],'age':[20,21,20],'perc':[67,70,75]}\n",
    "df=pd.DataFrame(data)\n",
    "print(\"\\n Average age:\",sum(df['age']/len(df['age'])))\n",
    "print(\"\\n Average Percentage:\",sum(df['perc']/len(df['perc'])))\n",
    "print(\"\\n Basic Statics of Data:\\m\",df.describe())"
   ]
  }
 ],
 "metadata": {
  "kernelspec": {
   "display_name": "Python 3 (ipykernel)",
   "language": "python",
   "name": "python3"
  },
  "language_info": {
   "codemirror_mode": {
    "name": "ipython",
    "version": 3
   },
   "file_extension": ".py",
   "mimetype": "text/x-python",
   "name": "python",
   "nbconvert_exporter": "python",
   "pygments_lexer": "ipython3",
   "version": "3.10.12"
  }
 },
 "nbformat": 4,
 "nbformat_minor": 5
}
