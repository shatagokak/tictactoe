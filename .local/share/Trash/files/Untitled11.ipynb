{
 "cells": [
  {
   "cell_type": "code",
   "execution_count": 6,
   "id": "1a22d4b4-93d2-4ccd-b383-8e1cb082c742",
   "metadata": {},
   "outputs": [
    {
     "name": "stdout",
     "output_type": "stream",
     "text": [
      "/n Dispaying Datase:/n    Country  Age    Salary Purchased\n",
      "0   France  44.0  72000.0        No\n",
      "1    Spain  27.0  48000.0       Yes\n",
      "2  Germany  30.0  54000.0        No\n",
      "3    Spain  38.0  63000.0        No\n",
      "4  Germany  40.0      NaN       Yes\n",
      "5   France  35.0  58000.0       Yes\n",
      "6    Spain   NaN  52000.0        No\n",
      "7   France  48.0  79000.0       Yes\n",
      "8  Germany  50.0  83000.0        No\n",
      "9   France  37.0  67000.0       Yes\n",
      "/n ***** After Applying OneHot coding on Country*****/n    Age    Salary Purchased  Country_France  Country_Germany  Country_Spain\n",
      "0  44.0  72000.0        No            True            False          False\n",
      "1  27.0  48000.0       Yes           False            False           True\n",
      "2  30.0  54000.0        No           False             True          False\n",
      "3  38.0  63000.0        No           False            False           True\n",
      "4  40.0      NaN       Yes           False             True          False\n",
      "5  35.0  58000.0       Yes            True            False          False\n",
      "6   NaN  52000.0        No           False            False           True\n",
      "7  48.0  79000.0       Yes            True            False          False\n",
      "8  50.0  83000.0        No           False             True          False\n",
      "9  37.0  67000.0       Yes            True            False          False\n",
      "/n*****After applying OneHot coding on Country*****/n    Country  Age    Salary  Purchased\n",
      "0   France  44.0  72000.0          0\n",
      "1    Spain  27.0  48000.0          1\n",
      "2  Germany  30.0  54000.0          0\n",
      "3    Spain  38.0  63000.0          0\n",
      "4  Germany  40.0      NaN          1\n",
      "5   France  35.0  58000.0          1\n",
      "6    Spain   NaN  52000.0          0\n",
      "7   France  48.0  79000.0          1\n",
      "8  Germany  50.0  83000.0          0\n",
      "9   France  37.0  67000.0          1\n"
     ]
    }
   ],
   "source": [
    "import pandas as pd\n",
    "from sklearn import preprocessing\n",
    "#create Data.csv\n",
    "data=pd.read_csv(\"Data.csv\")\n",
    "df=pd.DataFrame(data)\n",
    " #displaying the dataset\n",
    "print(\"/n Dispaying Datase:/n\",df)\n",
    "\n",
    "#Applying OneHot coding on country column\n",
    "one_hot_encoded_data=pd.get_dummies(data,columns=['Country'])\n",
    "print(\"/n ***** After Applying OneHot coding on Country*****/n\",one_hot_encoded_data)\n",
    "\n",
    "#Applying label encoding on purchased column\n",
    "#label_encoderobject knows hot to putchased column\n",
    "label_encoder=preprocessing.LabelEncoder()\n",
    "\n",
    "#encode labels in column 'Prchased'\n",
    "df['Purchased']=label_encoder.fit_transform(df['Purchased'])\n",
    "\n",
    "df['Purchased'].unique()\n",
    "print(\"/n*****After applying OneHot coding on Country*****/n\",df)"
   ]
  },
  {
   "cell_type": "code",
   "execution_count": null,
   "id": "9f8301bd-1602-479d-bd1c-6c301748f345",
   "metadata": {},
   "outputs": [],
   "source": []
  }
 ],
 "metadata": {
  "kernelspec": {
   "display_name": "Python 3 (ipykernel)",
   "language": "python",
   "name": "python3"
  },
  "language_info": {
   "codemirror_mode": {
    "name": "ipython",
    "version": 3
   },
   "file_extension": ".py",
   "mimetype": "text/x-python",
   "name": "python",
   "nbconvert_exporter": "python",
   "pygments_lexer": "ipython3",
   "version": "3.10.12"
  }
 },
 "nbformat": 4,
 "nbformat_minor": 5
}
