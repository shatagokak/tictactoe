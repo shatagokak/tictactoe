{
 "cells": [
  {
   "cell_type": "code",
   "execution_count": 13,
   "id": "e0250c46-d064-49b1-82d1-314ba1d35108",
   "metadata": {
    "scrolled": true
   },
   "outputs": [
    {
     "name": "stdout",
     "output_type": "stream",
     "text": [
      "    Name  percentage  Age\n",
      "0  Gohar          99   19\n",
      "1    abc         923   13\n",
      "2   fefg          99   19\n",
      "3  sgdsg          99   19\n",
      "4    sgs          99   19\n",
      "5    sgh          99   19\n",
      "6   Gsgh          99   19\n",
      "7    Gsh          99   19\n",
      "8    hgr          99   19\n",
      "9    Gyg          99   19\n"
     ]
    }
   ],
   "source": [
    "import pandas as pd\n",
    "df=pd.DataFrame(Column=['Name','percentage','Age'])\n",
    "df.loc[0]=['Gohar',99,19]\n",
    "df.loc[1]=['abc',923,13]\n",
    "df.loc[2]=['fefg',99,19]\n",
    "df.loc[3]=['sgdsg',99,19]\n",
    "df.loc[4]=['sgs',99,19]\n",
    "df.loc[5]=['sgh',99,19]\n",
    "df.loc[6]=['Gsgh',99,19]\n",
    "df.loc[7]=['Gsh',99,19]\n",
    "df.loc[8]=['hgr',99,19]\n",
    "df.loc[9]=['Gyg',99,19]\n",
    "print(df)\n"
   ]
  },
  {
   "cell_type": "code",
   "execution_count": 16,
   "id": "1efd2e0c-09d2-49a7-80c4-e8de28c497b3",
   "metadata": {},
   "outputs": [
    {
     "name": "stdout",
     "output_type": "stream",
     "text": [
      "     Name  percentage   Age\n",
      "0    Tata          23  2017\n",
      "1    M.G.          41  2018\n",
      "2     KIA          23  2019\n",
      "3  Hundai          23  2015\n",
      "4   Gohar          99    19\n",
      "5     abc         923    13\n",
      "6    fefg          99    19\n",
      "7   sgdsg          99    19\n",
      "8   Gohar          99    19\n",
      "9     abc         923    13\n",
      "Shape of data:  (10, 3)\n",
      "NO. of rows and columns  30\n",
      "NO. of data types:  Name          object\n",
      "percentage     int64\n",
      "Age            int64\n",
      "dtype: object\n",
      "Features name  Index(['Name', 'percentage', 'Age'], dtype='object')\n",
      "Description         percentage          Age\n",
      "count   10.000000    10.000000\n",
      "mean   235.200000   817.100000\n",
      "std    364.103099  1032.927711\n",
      "min     23.000000    13.000000\n",
      "25%     27.500000    19.000000\n",
      "50%     99.000000    19.000000\n",
      "75%     99.000000  2016.500000\n",
      "max    923.000000  2019.000000\n"
     ]
    }
   ],
   "source": [
    "import pandas as pd\n",
    "df=pd.DataFrame(columns=['Name','percentage','Age'])\n",
    "df.loc[0]=['Tata',23,2017]\n",
    "df.loc[1]=['M.G.',41,2018]\n",
    "df.loc[2]=['KIA',23,2019]\n",
    "df.loc[3]=['Hundai',23,2015]\n",
    "df.loc[4]=['Gohar',99,19]\n",
    "df.loc[5]=['abc',923,13]\n",
    "df.loc[6]=['fefg',99,19]\n",
    "df.loc[7]=['sgdsg',99,19]\n",
    "df.loc[8]=['Gohar',99,19]\n",
    "df.loc[9]=['abc',923,13]\n",
    "print(df)\n",
    "print('Shape of data: ', df.shape)\n",
    "print('NO. of rows and columns ', df.size)\n",
    "print('NO. of data types: ', df.dtypes)\n",
    "print('Features name ', df.columns)\n",
    "print('Description ', df.describe())"
   ]
  },
  {
   "cell_type": "code",
   "execution_count": 17,
   "id": "25320bfb-d88e-4f3c-9a1b-202bd3067ca0",
   "metadata": {
    "scrolled": true
   },
   "outputs": [
    {
     "name": "stdout",
     "output_type": "stream",
     "text": [
      "     Name  percentage   Age\n",
      "0    Tata          23  2017\n",
      "1    M.G.          41  2018\n",
      "2     KIA          23  2019\n",
      "3  Hundai          23  2015\n",
      "4   Gohar          99    19\n",
      "5     abc         923    13\n",
      "6    fefg          99    19\n",
      "7   sgdsg          99    19\n",
      "8   Gohar          99    19\n",
      "9     abc         923    13\n",
      "Shape of data:  (10, 3)\n",
      "NO. of rows and columns  30\n",
      "NO. of data types:  Name          object\n",
      "percentage     int64\n",
      "Age            int64\n",
      "dtype: object\n",
      "Features name  Index(['Name', 'percentage', 'Age'], dtype='object')\n",
      "Description         percentage          Age\n",
      "count   10.000000    10.000000\n",
      "mean   235.200000   817.100000\n",
      "std    364.103099  1032.927711\n",
      "min     23.000000    13.000000\n",
      "25%     27.500000    19.000000\n",
      "50%     99.000000    19.000000\n",
      "75%     99.000000  2016.500000\n",
      "max    923.000000  2019.000000\n",
      "Description is :        percentage          Age\n",
      "count   10.000000    10.000000\n",
      "mean   235.200000   817.100000\n",
      "std    364.103099  1032.927711\n",
      "min     23.000000    13.000000\n",
      "25%     27.500000    19.000000\n",
      "50%     99.000000    19.000000\n",
      "75%     99.000000  2016.500000\n",
      "max    923.000000  2019.000000\n"
     ]
    }
   ],
   "source": [
    "import pandas as pd\n",
    "df=pd.DataFrame(columns=['Name','percentage','Age'])\n",
    "df.loc[0]=['Tata',23,2017]\n",
    "df.loc[1]=['M.G.',41,2018]\n",
    "df.loc[2]=['KIA',23,2019]\n",
    "df.loc[3]=['Hundai',23,2015]\n",
    "df.loc[4]=['Gohar',99,19]\n",
    "df.loc[5]=['abc',923,13]\n",
    "df.loc[6]=['fefg',99,19]\n",
    "df.loc[7]=['sgdsg',99,19]\n",
    "df.loc[8]=['Gohar',99,19]\n",
    "df.loc[9]=['abc',923,13]\n",
    "print(df)\n",
    "print('Shape of data: ', df.shape)\n",
    "print('NO. of rows and columns ', df.size)\n",
    "print('NO. of data types: ', df.dtypes)\n",
    "print('Features name ', df.columns)\n",
    "print('Description ', df.describe())\n",
    "print('Description is :', df.describe())"
   ]
  },
  {
   "cell_type": "code",
   "execution_count": 19,
   "id": "7fc18d49-a300-4954-8566-cf1a19621370",
   "metadata": {},
   "outputs": [
    {
     "name": "stdout",
     "output_type": "stream",
     "text": [
      "    Name  percentage  Age\n",
      "0  Gohar          99   19\n",
      "1    abc         923   13\n",
      "2   fefg          99   19\n",
      "3  sgdsg          99   19\n",
      "4    sgs          99   19\n",
      "    Name  percentage  Age Remarks\n",
      "0  Gohar          99   19    None\n",
      "1    abc         923   13    None\n",
      "2   fefg          99   19    None\n",
      "3  sgdsg          99   19    None\n",
      "4    sgs          99   19    None\n"
     ]
    }
   ],
   "source": [
    "import pandas as pd\n",
    "df=pd.DataFrame(columns=['Name','percentage','Age'])\n",
    "df.loc[0]=['Gohar',99,19]\n",
    "df.loc[1]=['abc',923,13]\n",
    "df.loc[2]=['fefg',99,19]\n",
    "df.loc[3]=['sgdsg',99,19]\n",
    "df.loc[4]=['sgs',99,19]\n",
    "print(df)\n",
    "df['Remarks']=None\n",
    "print(df)"
   ]
  },
  {
   "cell_type": "code",
   "execution_count": 22,
   "id": "fa05556c-f066-4539-8df1-3e4451a99f2f",
   "metadata": {},
   "outputs": [
    {
     "name": "stdout",
     "output_type": "stream",
     "text": [
      "    Name  percentage  Age\n",
      "0  Gohar          99   19\n",
      "1    abc         923   13\n",
      "2   fefg          99   19\n",
      "3  sgdsg          99   19\n",
      "4    sgs          99   19\n",
      "    Name  percentage  Age Remarks\n",
      "0  Gohar          99   19    None\n",
      "1    abc         923   13    None\n",
      "2   fefg          99   19    None\n",
      "3  sgdsg          99   19    None\n",
      "4    sgs          99   19    None\n",
      "NO of abs is : 5\n",
      "    Name  percentage    Age  Remarks\n",
      "0  False       False  False     True\n",
      "1  False       False  False     True\n",
      "2  False       False  False     True\n",
      "3  False       False  False     True\n",
      "4  False       False  False     True\n",
      "0    False\n",
      "1    False\n",
      "2    False\n",
      "3    False\n",
      "4    False\n",
      "dtype: bool\n"
     ]
    }
   ],
   "source": [
    "import pandas as pd\n",
    "df=pd.DataFrame(columns=['Name','percentage','Age'])\n",
    "df.loc[0]=['Gohar',99,19]\n",
    "df.loc[1]=['abc',923,13]\n",
    "df.loc[2]=['fefg',99,19]\n",
    "df.loc[3]=['sgdsg',99,19]\n",
    "df.loc[4]=['sgs',99,19]\n",
    "print(df)\n",
    "df['Remarks']=None\n",
    "print(df)\n",
    "print('NO of abs is :',df['Name'].size)\n",
    "missing = df.isnull()\n",
    "print(missing)\n",
    "dup=df.duplicated()\n",
    "print(dup)"
   ]
  },
  {
   "cell_type": "code",
   "execution_count": 26,
   "id": "3b3fee96-9320-46b1-af45-11a96dacbbda",
   "metadata": {},
   "outputs": [
    {
     "name": "stdout",
     "output_type": "stream",
     "text": [
      "    Name  percentage  Age\n",
      "0  Gohar          99   19\n",
      "1    abc         923   13\n",
      "2   fefg          99   19\n",
      "3  sgdsg          99   19\n",
      "4    sgs          99   19\n",
      "    Name  percentage  Age Remarks\n",
      "0  Gohar          99   19    None\n",
      "1    abc         923   13    None\n",
      "2   fefg          99   19    None\n",
      "3  sgdsg          99   19    None\n",
      "4    sgs          99   19    None\n",
      "NO of abs is : 5\n",
      "    Name  percentage    Age  Remarks\n",
      "0  False       False  False     True\n",
      "1  False       False  False     True\n",
      "2  False       False  False     True\n",
      "3  False       False  False     True\n",
      "4  False       False  False     True\n",
      "0    False\n",
      "1    False\n",
      "2    False\n",
      "3    False\n",
      "4    False\n",
      "dtype: bool\n"
     ]
    }
   ],
   "source": [
    "import pandas as pd\n",
    "df=pd.DataFrame(columns=['Name','percentage','Age'])\n",
    "df.loc[0]=['Gohar',99,19]\n",
    "df.loc[1]=['abc',923,13]\n",
    "df.loc[2]=['fefg',99,19]\n",
    "df.loc[3]=['sgdsg',99,19]\n",
    "df.loc[4]=['sgs',99,19]\n",
    "print(df)\n",
    "df['Remarks']=None\n",
    "print(df)\n",
    "print('NO of abs is :',df['Name'].size)\n",
    "missing = df.isnull()\n",
    "print(missing)\n",
    "dup=df.duplicated()\n",
    "print(dup)\n",
    "df.drop(labels=['Remarks'],axis=1,inplace=True)\n",
    "df.dropna(axis=0,inplace=True)"
   ]
  },
  {
   "cell_type": "code",
   "execution_count": 36,
   "id": "6a8c77ed-ed08-4555-8d49-6026a13fbe04",
   "metadata": {},
   "outputs": [
    {
     "name": "stdout",
     "output_type": "stream",
     "text": [
      "    Name  Percentage  Age\n",
      "0  GOHAR          79   19\n",
      "1    agf          95   20\n",
      "2    ahf          70   20\n",
      "3    ARf          80   21\n",
      "4  jhfuw          94   21\n",
      "5  djfoi          80   20\n",
      "6    uhf          87   21\n",
      "7   igfg          78   20\n",
      "8  oidug          94   21\n",
      "9    wpf          73   20\n"
     ]
    },
    {
     "data": {
      "text/plain": [
       "<function matplotlib.pyplot.show(close=None, block=None)>"
      ]
     },
     "execution_count": 36,
     "metadata": {},
     "output_type": "execute_result"
    },
    {
     "data": {
      "image/png": "[encoded data removed]",
      "text/plain": [
       "<Figure size 640x480 with 1 Axes>"
      ]
     },
     "metadata": {},
     "output_type": "display_data"
    }
   ],
   "source": [
    "import pandas as pd\n",
    "import matplotlib.pyplot as plt\n",
    "df=pd.DataFrame(columns=['Name','Percentage','Age'])\n",
    "df.loc[0]=['GOHAR',79,19]\n",
    "df.loc[1]=['agf',95,20]\n",
    "df.loc[2]=['ahf',70,20]\n",
    "df.loc[3]=['ARf',80,21]\n",
    "df.loc[4]=['jhfuw',94,21]\n",
    "df.loc[5]=['djfoi',80,20]\n",
    "df.loc[6]=['uhf',87,21]\n",
    "df.loc[7]=['igfg',78,20]\n",
    "df.loc[8]=['oidug',94,21]\n",
    "df.loc[9]=['wpf',73,20]\n",
    "df['remark']=None\n",
    "df.drop(labels=['remark'],axis=1,inplace=True)\n",
    "df.dropna(axis=0,inplace=True)\n",
    "print(df)\n",
    "df.plot(x=\"Name\", y=\"Percentage\")\n",
    "plt.xlabel(\"Name VS Percentage\")\n",
    "plt.xlabel(\"Name of Students\")\n",
    "plt.ylabel(\"Percentage\")\n",
    "plt.show           \n"
   ]
  },
  {
   "cell_type": "code",
   "execution_count": 35,
   "id": "872832a9-f1cb-4a46-9be0-b1fe74108126",
   "metadata": {},
   "outputs": [
    {
     "name": "stdout",
     "output_type": "stream",
     "text": [
      "    Name  Percentage  Age\n",
      "0  GOHAR          79   19\n",
      "1    agf          95   20\n",
      "2    ahf          70   20\n",
      "3    ARf          80   21\n",
      "4  jhfuw          94   21\n",
      "5  djfoi          80   20\n",
      "6    uhf          87   21\n",
      "7   igfg          78   20\n",
      "8  oidug          94   21\n",
      "9    wpf          73   20\n"
     ]
    },
    {
     "data": {
      "text/plain": [
       "<function matplotlib.pyplot.show(close=None, block=None)>"
      ]
     },
     "execution_count": 35,
     "metadata": {},
     "output_type": "execute_result"
    },
    {
     "data": {
      "image/png": "[encoded data removed]",
      "text/plain": [
       "<Figure size 640x480 with 1 Axes>"
      ]
     },
     "metadata": {},
     "output_type": "display_data"
    }
   ],
   "source": [
    "import pandas as pd\n",
    "import matplotlib.pyplot as plt\n",
    "df=pd.DataFrame(columns=['Name','Percentage','Age'])\n",
    "df.loc[0]=['GOHAR',79,19]\n",
    "df.loc[1]=['agf',95,20]\n",
    "df.loc[2]=['ahf',70,20]\n",
    "df.loc[3]=['ARf',80,21]\n",
    "df.loc[4]=['jhfuw',94,21]\n",
    "df.loc[5]=['djfoi',80,20]\n",
    "df.loc[6]=['uhf',87,21]\n",
    "df.loc[7]=['igfg',78,20]\n",
    "df.loc[8]=['oidug',94,21]\n",
    "df.loc[9]=['wpf',73,20]<function matplotlib.pyplot.show(close=None, block=None)>\n",
    "\n",
    "\n",
    "print(df)\n",
    "plt.scatter(x=df ['Name'],y=df['Percentage'])\n",
    "plt.xlabel(\"Name VS Percentage\")\n",
    "plt.xlabel(\"Name of Students\")\n",
    "plt.ylabel(\"Percentage\")\n",
    "plt.show      "
   ]
  },
  {
   "cell_type": "code",
   "execution_count": null,
   "id": "4707379f-101b-46fe-9772-92fadeb44145",
   "metadata": {},
   "outputs": [],
   "source": []
  },
  {
   "cell_type": "code",
   "execution_count": null,
   "id": "76ce4fc5-d07d-4ffb-a02c-b240882e5ca3",
   "metadata": {},
   "outputs": [],
   "source": []
  }
 ],
 "metadata": {
  "kernelspec": {
   "display_name": "Python 3 (ipykernel)",
   "language": "python",
   "name": "python3"
  },
  "language_info": {
   "codemirror_mode": {
    "name": "ipython",
    "version": 3
   },
   "file_extension": ".py",
   "mimetype": "text/x-python",
   "name": "python",
   "nbconvert_exporter": "python",
   "pygments_lexer": "ipython3",
   "version": "3.10.12"
  }
 },
 "nbformat": 4,
 "nbformat_minor": 5
}
