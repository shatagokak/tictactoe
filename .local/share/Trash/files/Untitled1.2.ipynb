{
 "cells": [
  {
   "cell_type": "code",
   "execution_count": 2,
   "id": "cdacab4b-af14-4963-8859-783000da5467",
   "metadata": {},
   "outputs": [
    {
     "name": "stdout",
     "output_type": "stream",
     "text": [
      "Name      RamShammeenaseetageetarakeshmadhav\n",
      "Age                                      181\n",
      "Rating                                 25.17\n",
      "dtype: object\n"
     ]
    }
   ],
   "source": [
    "import pandas as pd\n",
    "import numpy as np\n",
    "d={'Name':pd.Series(['Ram','Sham','meena','seeta','geeta','rakesh','madhav']),'Age':pd.Series([25,26,25,23,30,29,23]),'Rating':pd.Series([4.23,3.2,3.98,2.56,3.20,4.6,3.4])}\n",
    "df=pd.DataFrame(d)\n",
    "print(df.sum())"
   ]
  },
  {
   "cell_type": "code",
   "execution_count": 4,
   "id": "f46e810d-f22e-424f-8ef4-e868d698b960",
   "metadata": {},
   "outputs": [
    {
     "ename": "SyntaxError",
     "evalue": "invalid syntax (4171639904.py, line 7)",
     "output_type": "error",
     "traceback": [
      "\u001b[0;36m  Cell \u001b[0;32mIn[4], line 7\u001b[0;36m\u001b[0m\n\u001b[0;31m    OUTPUT:\u001b[0m\n\u001b[0m           ^\u001b[0m\n\u001b[0;31mSyntaxError\u001b[0m\u001b[0;31m:\u001b[0m invalid syntax\n"
     ]
    }
   ],
   "source": []
  },
  {
   "cell_type": "code",
   "execution_count": 5,
   "id": "3f726173-9d0f-4e07-bc4a-8fb8448ee5f5",
   "metadata": {
    "scrolled": true
   },
   "outputs": [
    {
     "name": "stdout",
     "output_type": "stream",
     "text": [
      "Name      RamShammeenaseetageetarakeshmadhav\n",
      "Age                                      181\n",
      "Rating                                 25.17\n",
      "dtype: object\n",
      "statistical details:              Age    Rating\n",
      "count   7.000000  7.000000\n",
      "mean   25.857143  3.595714\n",
      "std     2.734262  0.705073\n",
      "min    23.000000  2.560000\n",
      "25%    24.000000  3.200000\n",
      "50%    25.000000  3.400000\n",
      "75%    27.500000  4.105000\n",
      "max    30.000000  4.600000\n"
     ]
    }
   ],
   "source": [
    "import pandas as pd\n",
    "import numpy as np\n",
    "d={'Name':pd.Series(['Ram','Sham','meena','seeta','geeta','rakesh','madhav']),'Age':pd.Series([25,26,25,23,30,29,23]),'Rating':pd.Series([4.23,3.2,3.98,2.56,3.20,4.6,3.4])}\n",
    "df=pd.DataFrame(d)\n",
    "print(df.sum()) \n",
    "print('statistical details:',df.describe())"
   ]
  },
  {
   "cell_type": "code",
   "execution_count": null,
   "id": "3a9b9149-9dc1-4989-b359-c9d547bc7dd2",
   "metadata": {},
   "outputs": [],
   "source": [
    "import pandas as pd\n",
    "import numpy as np\n",
    "import scipy.stats as s\n",
    "score={'Virat':[92,97,85,74,71,55,85,63,42,32,71,55],'Rohit':[89,87,67,55,47,72,76,79,44,92,99,47]}\n",
    "df=pd.DataFrame(score)\n",
    "print(df)\n",
    "print(\"\\n arithemetic mean value\")\n",
    "print(\"score 1\",s.tmean(df[\"Virat\"]).round(2))\n",
    "print(\"score 2\",s.tmean(df[\"Rohit\"]).round(2))"
   ]
  }
 ],
 "metadata": {
  "kernelspec": {
   "display_name": "Python 3 (ipykernel)",
   "language": "python",
   "name": "python3"
  },
  "language_info": {
   "codemirror_mode": {
    "name": "ipython",
    "version": 3
   },
   "file_extension": ".py",
   "mimetype": "text/x-python",
   "name": "python",
   "nbconvert_exporter": "python",
   "pygments_lexer": "ipython3",
   "version": "3.10.12"
  }
 },
 "nbformat": 4,
 "nbformat_minor": 5
}
